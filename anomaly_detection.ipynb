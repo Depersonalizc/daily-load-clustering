{
 "cells": [
  {
   "cell_type": "code",
   "execution_count": null,
   "metadata": {
    "colab": {
     "base_uri": "https://localhost:8080/"
    },
    "id": "2APtNGaU12cl",
    "outputId": "8428aee4-a23f-4ff9-d23d-c2c0e5bae64a"
   },
   "outputs": [],
   "source": [
    "from google.colab import drive\n",
    "drive.mount('/content/drive')"
   ]
  },
  {
   "cell_type": "code",
   "execution_count": null,
   "metadata": {
    "id": "MtlAHfOz3Z9o"
   },
   "outputs": [],
   "source": [
    "!cp drive/MyDrive/Colab_Notebooks/utils.py ."
   ]
  },
  {
   "cell_type": "code",
   "execution_count": null,
   "metadata": {
    "id": "beTeqp7N0rGc"
   },
   "outputs": [],
   "source": [
    "import matplotlib.pyplot as plt\n",
    "import numpy as np\n",
    "import pandas as pd\n",
    "import torch\n",
    "from utils import *\n",
    "device = torch.device('cuda' if torch.cuda.is_available() else 'cpu')"
   ]
  },
  {
   "cell_type": "code",
   "execution_count": null,
   "metadata": {
    "id": "2FlkRm6B07KF"
   },
   "outputs": [],
   "source": [
    "from zipfile import ZipFile\n",
    "MIN_IN_DAY = 1440\n",
    "CUTOFF = 172800\n",
    "\n",
    "myzip=ZipFile('/content/drive/MyDrive/Colab_Notebooks/load/data.zip')\n",
    "f=myzip.open('data.csv')\n",
    "df=pd.read_csv(f)\n",
    "f.close()\n",
    "myzip.close()\n",
    "\n",
    "daily = np.array(df.iloc[:, 1:])[:CUTOFF].T  # 346 residents, 172800 min\n",
    "daily = daily.reshape((daily.shape[0], -1, MIN_IN_DAY))  # 346 residents, 120 days, 1440 minutes\n",
    "daily = np.nanmean(daily, axis=1)  # 346 residents, 1440 minutes\n",
    "\n",
    "normalized_daily = normalized(daily)"
   ]
  },
  {
   "cell_type": "code",
   "execution_count": null,
   "metadata": {
    "id": "HV69u5Kh9K_M"
   },
   "outputs": [],
   "source": [
    "AE_CNN??"
   ]
  },
  {
   "cell_type": "code",
   "execution_count": null,
   "metadata": {
    "colab": {
     "base_uri": "https://localhost:8080/"
    },
    "id": "YlCImHiF4aj1",
    "outputId": "4f51015d-1d19-408c-f16a-a05962c72e99"
   },
   "outputs": [],
   "source": [
    "# anomaly dedection, list records by reconstruction error from high to low\n",
    "latent_dim = 16\n",
    "\n",
    "cfg = {\n",
    "    'latent_dim': latent_dim,\n",
    "    'activation': nn.ReLU(),\n",
    "}\n",
    "\n",
    "model_dict = '/content/drive/MyDrive/Colab_Notebooks/load/models/AE_CNN_sigmoid_d={}.pt'.format(latent_dim)\n",
    "model = AE_CNN(cfg,load_dict=model_dict,device=device)\n",
    "\n",
    "data = DS(normalized_daily, sep=0, train=False, device=device).data\n",
    "latent, recon = model(data)\n",
    "latent = latent.detach().cpu().numpy()"
   ]
  },
  {
   "cell_type": "code",
   "execution_count": null,
   "metadata": {
    "colab": {
     "base_uri": "https://localhost:8080/",
     "height": 298
    },
    "id": "HqpX9kKQ8k33",
    "outputId": "2d91bf10-6f57-49b9-c581-b6729baca368"
   },
   "outputs": [],
   "source": [
    "reconstruction_error = ((recon.squeeze().detach().cpu().numpy() - normalized_daily)**2).sum(1)\n",
    "order = np.argsort(reconstruction_error)\n",
    "plt.plot(normalized_daily[order][-50].T)\n",
    "plt.plot(recon.squeeze().detach().cpu().numpy()[order][-50].T)\n",
    "plt.title('reconstruction error :'+str(reconstruction_error[order][-50]))"
   ]
  },
  {
   "cell_type": "code",
   "execution_count": null,
   "metadata": {
    "colab": {
     "base_uri": "https://localhost:8080/",
     "height": 282
    },
    "id": "IG9KaB4XCq0D",
    "outputId": "2dcc07a2-7418-4e5a-f609-2fe4bcbeb323"
   },
   "outputs": [],
   "source": [
    "plt.plot(normalized_daily[order][-50].reshape(72,-1).sum(1))"
   ]
  },
  {
   "cell_type": "code",
   "execution_count": null,
   "metadata": {
    "colab": {
     "base_uri": "https://localhost:8080/",
     "height": 282
    },
    "id": "8ik_zqMeBXIc",
    "outputId": "b3277277-5aba-4346-f7a2-9a70e05fd684"
   },
   "outputs": [],
   "source": [
    "plt.plot(reconstruction_error[order],'o')\n",
    "plt.ylabel('reconstruction error')"
   ]
  }
 ],
 "metadata": {
  "colab": {
   "name": "anomaly detection",
   "provenance": []
  },
  "kernelspec": {
   "display_name": "Python 3",
   "name": "python3"
  },
  "language_info": {
   "name": "python"
  }
 },
 "nbformat": 4,
 "nbformat_minor": 0
}
