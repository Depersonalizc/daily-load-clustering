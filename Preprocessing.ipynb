{
 "cells": [
  {
   "cell_type": "code",
   "execution_count": 1,
   "metadata": {
    "ExecuteTime": {
     "end_time": "2021-04-08T13:54:12.903729Z",
     "start_time": "2021-04-08T13:54:11.671029Z"
    }
   },
   "outputs": [],
   "source": [
    "import pandas as pd\n",
    "import matplotlib.pyplot as plt"
   ]
  },
  {
   "cell_type": "code",
   "execution_count": 2,
   "metadata": {
    "ExecuteTime": {
     "end_time": "2021-04-07T12:51:53.711409Z",
     "start_time": "2021-04-07T12:51:31.142765Z"
    }
   },
   "outputs": [],
   "source": [
    "data = pd.read_csv('data\\pecan_1_min_part{}.csv'.format(1))\n",
    "for i in range(2,12):\n",
    "    data = pd.concat([data,pd.read_csv('data\\pecan_1_min_part{}.csv'.format(i))])\n",
    "newdata = data.pivot('dataid','localminute','use')"
   ]
  },
  {
   "cell_type": "code",
   "execution_count": 45,
   "metadata": {
    "ExecuteTime": {
     "end_time": "2021-04-07T12:48:30.647467Z",
     "start_time": "2021-04-07T12:48:30.642480Z"
    }
   },
   "outputs": [],
   "source": [
    "sampled_data = data.iloc[:30000,:]"
   ]
  },
  {
   "cell_type": "code",
   "execution_count": 2,
   "metadata": {
    "ExecuteTime": {
     "end_time": "2021-04-08T13:54:22.839158Z",
     "start_time": "2021-04-08T13:54:13.335576Z"
    }
   },
   "outputs": [],
   "source": [
    "data = pd.read_csv('processed_data.csv')"
   ]
  },
  {
   "cell_type": "markdown",
   "metadata": {
    "ExecuteTime": {
     "end_time": "2021-04-07T13:22:14.547621Z",
     "start_time": "2021-04-07T13:22:14.519662Z"
    }
   },
   "source": [
    "Now we got the data in proper form. \n",
    "We want to do some basic analysis of data to see the pattern. "
   ]
  },
  {
   "cell_type": "code",
   "execution_count": 3,
   "metadata": {
    "ExecuteTime": {
     "end_time": "2021-04-08T13:54:58.185319Z",
     "start_time": "2021-04-08T13:54:26.724420Z"
    }
   },
   "outputs": [],
   "source": [
    "# change the data to time stamp\n",
    "data['localminute'] = pd.to_datetime(data['localminute'])"
   ]
  },
  {
   "cell_type": "code",
   "execution_count": 4,
   "metadata": {
    "ExecuteTime": {
     "end_time": "2021-04-08T13:55:07.205023Z",
     "start_time": "2021-04-08T13:55:07.191045Z"
    }
   },
   "outputs": [
    {
     "data": {
      "text/plain": [
       "datetime.datetime(2016, 1, 1, 0, 0, tzinfo=tzoffset(None, -21600))"
      ]
     },
     "execution_count": 4,
     "metadata": {},
     "output_type": "execute_result"
    }
   ],
   "source": [
    "data['localminute'][0]"
   ]
  },
  {
   "cell_type": "code",
   "execution_count": 12,
   "metadata": {
    "ExecuteTime": {
     "end_time": "2021-04-08T13:56:19.930660Z",
     "start_time": "2021-04-08T13:56:19.924710Z"
    }
   },
   "outputs": [
    {
     "data": {
      "text/plain": [
       "True"
      ]
     },
     "execution_count": 12,
     "metadata": {},
     "output_type": "execute_result"
    }
   ],
   "source": [
    "data['localminute'][0].astimezone(tz) == data['localminute'][0]"
   ]
  },
  {
   "cell_type": "code",
   "execution_count": 15,
   "metadata": {
    "ExecuteTime": {
     "end_time": "2021-04-08T13:56:39.853229Z",
     "start_time": "2021-04-08T13:56:39.846268Z"
    }
   },
   "outputs": [
    {
     "data": {
      "text/plain": [
       "(173100, 347)"
      ]
     },
     "execution_count": 15,
     "metadata": {},
     "output_type": "execute_result"
    }
   ],
   "source": [
    "data.shape"
   ]
  },
  {
   "cell_type": "code",
   "execution_count": 16,
   "metadata": {
    "ExecuteTime": {
     "end_time": "2021-04-08T13:57:04.871263Z",
     "start_time": "2021-04-08T13:57:04.867270Z"
    }
   },
   "outputs": [],
   "source": [
    "from datetime import timezone, timedelta\n",
    "tz = timezone(timedelta(hours = -6)) # we want all data are in same timezone that is utc -6  "
   ]
  },
  {
   "cell_type": "code",
   "execution_count": 17,
   "metadata": {
    "ExecuteTime": {
     "end_time": "2021-04-08T13:59:44.407924Z",
     "start_time": "2021-04-08T13:57:07.198849Z"
    }
   },
   "outputs": [
    {
     "name": "stderr",
     "output_type": "stream",
     "text": [
      "  0%|                                                                                       | 0/173100 [00:00<?, ?it/s]C:\\Users\\fqzz2\\.julia\\conda\\3\\lib\\site-packages\\ipykernel_launcher.py:3: SettingWithCopyWarning: \n",
      "A value is trying to be set on a copy of a slice from a DataFrame\n",
      "\n",
      "See the caveats in the documentation: https://pandas.pydata.org/pandas-docs/stable/user_guide/indexing.html#returning-a-view-versus-a-copy\n",
      "  This is separate from the ipykernel package so we can avoid doing imports until\n",
      "100%|████████████████████████████████████████████████████████████████████████| 173100/173100 [02:37<00:00, 1101.30it/s]\n"
     ]
    }
   ],
   "source": [
    "from tqdm import tqdm\n",
    "for i in tqdm(range(data.shape[0])):\n",
    "    data['localminute'][i] = data['localminute'][i].astimezone(tz)"
   ]
  },
  {
   "cell_type": "code",
   "execution_count": 22,
   "metadata": {
    "ExecuteTime": {
     "end_time": "2021-04-08T14:04:40.922911Z",
     "start_time": "2021-04-08T14:02:10.786656Z"
    }
   },
   "outputs": [
    {
     "name": "stderr",
     "output_type": "stream",
     "text": [
      "  0%|                                                                                       | 0/173100 [00:00<?, ?it/s]C:\\Users\\fqzz2\\.julia\\conda\\3\\lib\\site-packages\\ipykernel_launcher.py:2: SettingWithCopyWarning: \n",
      "A value is trying to be set on a copy of a slice from a DataFrame\n",
      "\n",
      "See the caveats in the documentation: https://pandas.pydata.org/pandas-docs/stable/user_guide/indexing.html#returning-a-view-versus-a-copy\n",
      "  \n",
      "100%|████████████████████████████████████████████████████████████████████████| 173100/173100 [02:30<00:00, 1153.02it/s]\n"
     ]
    }
   ],
   "source": [
    "for i in tqdm(range(data.shape[0])):\n",
    "    data['localminute'][i] = data['localminute'][i].replace(tzinfo = timezone.utc)"
   ]
  },
  {
   "cell_type": "code",
   "execution_count": 28,
   "metadata": {
    "ExecuteTime": {
     "end_time": "2021-04-08T14:05:47.383801Z",
     "start_time": "2021-04-08T14:05:47.006555Z"
    }
   },
   "outputs": [],
   "source": [
    "data = data.set_index('localminute')"
   ]
  },
  {
   "cell_type": "code",
   "execution_count": 32,
   "metadata": {
    "ExecuteTime": {
     "end_time": "2021-04-08T14:07:26.617289Z",
     "start_time": "2021-04-08T14:06:26.728533Z"
    }
   },
   "outputs": [],
   "source": [
    "data.to_csv('processed_data_with_timeindex.csv')"
   ]
  },
  {
   "cell_type": "code",
   "execution_count": 38,
   "metadata": {
    "ExecuteTime": {
     "end_time": "2021-04-08T14:09:25.317283Z",
     "start_time": "2021-04-08T14:09:17.992755Z"
    }
   },
   "outputs": [],
   "source": [
    "data = pd.read_csv('processed_data_with_timeindex.csv', index_col = 0)"
   ]
  }
 ],
 "metadata": {
  "kernelspec": {
   "display_name": "Python 3",
   "language": "python",
   "name": "python3"
  },
  "language_info": {
   "codemirror_mode": {
    "name": "ipython",
    "version": 3
   },
   "file_extension": ".py",
   "mimetype": "text/x-python",
   "name": "python",
   "nbconvert_exporter": "python",
   "pygments_lexer": "ipython3",
   "version": "3.8.6"
  },
  "varInspector": {
   "cols": {
    "lenName": 16,
    "lenType": 16,
    "lenVar": 40
   },
   "kernels_config": {
    "python": {
     "delete_cmd_postfix": "",
     "delete_cmd_prefix": "del ",
     "library": "var_list.py",
     "varRefreshCmd": "print(var_dic_list())"
    },
    "r": {
     "delete_cmd_postfix": ") ",
     "delete_cmd_prefix": "rm(",
     "library": "var_list.r",
     "varRefreshCmd": "cat(var_dic_list()) "
    }
   },
   "types_to_exclude": [
    "module",
    "function",
    "builtin_function_or_method",
    "instance",
    "_Feature"
   ],
   "window_display": true
  }
 },
 "nbformat": 4,
 "nbformat_minor": 4
}
