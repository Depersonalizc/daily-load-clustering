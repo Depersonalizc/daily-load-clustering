{
 "cells": [
  {
   "cell_type": "code",
   "execution_count": null,
   "metadata": {
    "colab": {
     "base_uri": "https://localhost:8080/"
    },
    "id": "JFMkXQgo9whd",
    "outputId": "6cadf83d-73f8-4f55-bec9-305acb118078"
   },
   "outputs": [],
   "source": [
    "from google.colab import drive\n",
    "drive.mount('/content/drive')"
   ]
  },
  {
   "cell_type": "code",
   "execution_count": null,
   "metadata": {
    "colab": {
     "base_uri": "https://localhost:8080/"
    },
    "id": "k3LDGQoS-9Yt",
    "outputId": "68361a16-c0fc-43e0-e4c9-b8af2b7c72ae"
   },
   "outputs": [],
   "source": [
    "np.random.normal?"
   ]
  },
  {
   "cell_type": "code",
   "execution_count": null,
   "metadata": {
    "colab": {
     "base_uri": "https://localhost:8080/"
    },
    "id": "27yzR4uE-Gck",
    "outputId": "7055065b-f930-4e45-8dee-de0e7a2ea067"
   },
   "outputs": [],
   "source": [
    "import matplotlib.pyplot as plt\n",
    "import numpy as np\n",
    "from sklearn.cluster import KMeans\n",
    "x = np.arange(-np.pi,np.pi,0.01)\n",
    "noise = np.random.normal(0,0.5,x.shape[0]*100).reshape(-1,x.shape[0])\n",
    "sindata = np.sin(x) + noise[:1]\n",
    "nsindata = -np.sin(x) + noise[1:]\n",
    "X = np.vstack([sindata,nsindata])\n",
    "kmm = KMeans(n_clusters=2).fit(X)\n",
    "kmm.labels_"
   ]
  },
  {
   "cell_type": "code",
   "execution_count": null,
   "metadata": {
    "colab": {
     "base_uri": "https://localhost:8080/"
    },
    "id": "aZw6TW96AIWC",
    "outputId": "ec39bf79-f2c3-4ad3-8d21-5db99b1569b0"
   },
   "outputs": [],
   "source": [
    "# dimension reduction are significant for clustering.\n",
    "from sklearn.manifold import TSNE\n",
    "from sklearn.decomposition import PCA\n",
    "from tqdm import tqdm\n",
    "success = 0\n",
    "for _ in tqdm(range(1000)):\n",
    "  x = np.arange(-np.pi,np.pi,0.01)\n",
    "  noise = np.random.normal(0,1,x.shape[0]*100).reshape(-1,x.shape[0])\n",
    "  sindata = np.sin(x) + noise[:1]\n",
    "  nsindata = -np.sin(x) + noise[1:]\n",
    "  X = np.vstack([sindata,nsindata])\n",
    "  X_2d = PCA(n_components=2).fit_transform(X)\n",
    "  kmm = KMeans(n_clusters=2).fit(X_2d)\n",
    "\n",
    "  if ((kmm.labels_ == np.array([1]+[0]*99)).all() or (kmm.labels_ == np.array([0]+[1]*99)).all()):\n",
    "    success += 1\n",
    "print()\n",
    "print(success/10,\"%\")\n"
   ]
  }
 ],
 "metadata": {
  "colab": {
   "collapsed_sections": [],
   "name": "sine with pca",
   "provenance": []
  },
  "kernelspec": {
   "display_name": "Python 3",
   "name": "python3"
  },
  "language_info": {
   "name": "python"
  }
 },
 "nbformat": 4,
 "nbformat_minor": 0
}
