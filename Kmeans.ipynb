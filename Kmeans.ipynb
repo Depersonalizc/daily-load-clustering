{
 "cells": [
  {
   "cell_type": "code",
   "execution_count": null,
   "metadata": {},
   "outputs": [],
   "source": [
    "#experiment\n",
    "import pandas as pd\n",
    "import numpy as np\n",
    "import matplotlib.pyplot as plt"
   ]
  },
  {
   "cell_type": "code",
   "execution_count": null,
   "metadata": {},
   "outputs": [],
   "source": [
    "data = pd.read_csv('../project/processed_data_with_timeindex.csv',index_col = [0])\n",
    "data.index = pd.to_datetime(data.index)\n"
   ]
  },
  {
   "cell_type": "code",
   "execution_count": null,
   "metadata": {},
   "outputs": [],
   "source": [
    "data = pd.read_csv('processed_data.csv',index_col = [0])\n",
    "data.index = pd.to_datetime(data.index)\n"
   ]
  },
  {
   "cell_type": "code",
   "execution_count": null,
   "metadata": {},
   "outputs": [],
   "source": [
    "# clustering by daily load pattern\n",
    "# compute average daily pattern\n",
    "daily_pattern = pd.DataFrame(columns = data.columns)\n",
    "for i in data.columns:\n",
    "    daily_pattern[i] = np.nanmean(np.array(data[i][:(data.shape[0] - data.shape[0]%(60*24))]).reshape(-1,24*60),axis = 0)"
   ]
  },
  {
   "cell_type": "code",
   "execution_count": null,
   "metadata": {},
   "outputs": [],
   "source": [
    "# clustering by daily load pattern\n",
    "# compute average daily pattern\n",
    "daily_pattern = pd.DataFrame(columns = data.columns)\n",
    "for i in data.columns:\n",
    "    daily_pattern[i] = np.nanmean(np.array(data[i][:(data.shape[0] - data.shape[0]%(60*24))]).reshape(-1,24*60),axis = 0)"
   ]
  },
  {
   "cell_type": "code",
   "execution_count": null,
   "metadata": {},
   "outputs": [],
   "source": [
    "daily_pattern = daily_pattern.loc[:,daily_pattern.columns[daily_pattern.std(0)!=0]]"
   ]
  },
  {
   "cell_type": "code",
   "execution_count": null,
   "metadata": {},
   "outputs": [],
   "source": [
    "from sklearn.cluster import KMeans\n",
    "from scipy.spatial.distance import cdist\n",
    "# plot elbow plot\n",
    "def elbow_plot(X,n_clusters = np.arange(1,40,2)):\n",
    "    distortions = []\n",
    "    for n in n_clusters:\n",
    "        kmmodel = KMeans(n)\n",
    "        kmmodel.fit(X.T)\n",
    "        distortions.append(sum(np.min(cdist(X.T, kmmodel.cluster_centers_, 'euclidean'), axis=1)) / X.T.shape[0])\n",
    "    plt.plot(n_clusters, distortions, 'bx-')\n",
    "    plt.xticks(n_clusters)\n",
    "    plt.xlabel('k')\n",
    "    plt.ylabel('Distortion')\n",
    "    plt.title('The Elbow Method showing the optimal k')"
   ]
  },
  {
   "cell_type": "code",
   "execution_count": null,
   "metadata": {},
   "outputs": [],
   "source": [
    "import pickle\n",
    "def labeled_plot(X,k=31,xnum=4,ynum=8,silent = True):\n",
    "    '''\n",
    "    k should <= xnum*ynum\n",
    "    '''\n",
    "    X = X.reset_index(drop = True)\n",
    "    kmmodel = KMeans(k)\n",
    "    kmmodel.fit(X.T)\n",
    "    clusters_dict = {label:0 for label in set(kmmodel.labels_)}\n",
    "    for i in kmmodel.labels_:\n",
    "        clusters_dict[i] += 1\n",
    "    count = pd.DataFrame(clusters_dict,index = ['count']).T.sort_values(by = 'count',ascending = False)\n",
    "    clusters_dict = {label:0 for label in count.index}\n",
    "    for label in count.index:\n",
    "        clusters_dict[label] = X.iloc[:,kmmodel.labels_ == label]\n",
    "    if not silent:\n",
    "        fig = plt.figure(figsize=(20,8))\n",
    "        for k,label in enumerate(count.index):\n",
    "            fig.add_subplot(xnum,ynum,k+1).plot(clusters_dict[label]+0.5,alpha = 0.06)\n",
    "#             plt.subplot(xnum,ynum,k+1).plot(clusters_dict[label].mean(1),'r')\n",
    "            plt.plot(clusters_dict[label].mean(1)+0.5,'r')\n",
    "    return clusters_dict\n",
    "\n",
    "def save_dict(cluster_dicts, file_name):\n",
    "    with open(file_name,'wb+') as f:\n",
    "        pickle.dump(clusters_dict,f)\n",
    "        \n",
    "def normalized(load):\n",
    "    peak = load.max(axis=1)[:, None]\n",
    "    trough = load.min(axis=1)[:, None]\n",
    "    diff = peak - trough\n",
    "    diff[diff == 0.] = 1.\n",
    "    normalized = (load - trough) / diff\n",
    "    return normalized\n",
    "\n",
    "def resample_normalization(data,granularity = '1min'):\n",
    "    data.index = pd.date_range('2016-01-01-00:00:00','2016-01-01-23:59:59',freq = 'min')\n",
    "    data = data.resample(granularity,label = 'left').mean()\n",
    "    data = (data - data.min(0))/(data.max(0) - data.min(0)) - 0.5\n",
    "    return data"
   ]
  },
  {
   "cell_type": "code",
   "execution_count": null,
   "metadata": {},
   "outputs": [],
   "source": [
    "import pickle\n",
    "def labeled_plot(X,k=31,xnum=4,ynum=8,silent = True):\n",
    "    '''\n",
    "    k should <= xnum*ynum\n",
    "    '''\n",
    "    X = X.reset_index(drop = True)\n",
    "    kmmodel = KMeans(k)\n",
    "    kmmodel.fit(X.T)\n",
    "    clusters_dict = {label:0 for label in set(kmmodel.labels_)}\n",
    "    for i in kmmodel.labels_:\n",
    "        clusters_dict[i] += 1\n",
    "    count = pd.DataFrame(clusters_dict,index = ['count']).T.sort_values(by = 'count',ascending = False)\n",
    "    clusters_dict = {label:0 for label in count.index}\n",
    "    for label in count.index:\n",
    "        clusters_dict[label] = X.iloc[:,kmmodel.labels_ == label]\n",
    "    if not silent:\n",
    "        fig = plt.figure(figsize=(20,8))\n",
    "        for k,label in enumerate(count.index):\n",
    "            fig.add_subplot(xnum,ynum,k+1).plot(clusters_dict[label],alpha = 0.03)\n",
    "#             plt.subplot(xnum,ynum,k+1).plot(clusters_dict[label].mean(1),'r')\n",
    "            plt.plot(clusters_dict[label].mean(1)+0.5,'r')\n",
    "    return clusters_dict\n",
    "\n",
    "def save_dict(cluster_dicts, file_name):\n",
    "    with open(file_name,'wb+') as f:\n",
    "        pickle.dump(clusters_dict,f)\n",
    "        \n",
    "def normalized(load):\n",
    "    peak = load.max(axis=1)[:, None]\n",
    "    trough = load.min(axis=1)[:, None]\n",
    "    diff = peak - trough\n",
    "    diff[diff == 0.] = 1.\n",
    "    normalized = (load - trough) / diff\n",
    "    return normalized\n",
    "\n",
    "def resample_normalization(data,granularity = '1min'):\n",
    "    data.index = pd.date_range('2016-01-01-00:00:00','2016-01-01-23:59:59',freq = 'min')\n",
    "    data = data.resample(granularity,label = 'left').mean()\n",
    "    data = normalized(data)\n",
    "    return data"
   ]
  },
  {
   "cell_type": "code",
   "execution_count": null,
   "metadata": {},
   "outputs": [],
   "source": [
    "elbow_plot(resample_normalization(daily_pattern,'1min'),n_clusters = np.arange(1,40,2))"
   ]
  },
  {
   "cell_type": "code",
   "execution_count": null,
   "metadata": {},
   "outputs": [],
   "source": [
    "plt.plot(resample_normalization(daily_pattern,'1min').iloc[:,0])"
   ]
  },
  {
   "cell_type": "code",
   "execution_count": null,
   "metadata": {},
   "outputs": [],
   "source": [
    "elbow_plot(resample_normalization(daily_pattern,'1min'),n_clusters = np.arange(1,40,2))"
   ]
  },
  {
   "cell_type": "code",
   "execution_count": null,
   "metadata": {},
   "outputs": [],
   "source": [
    "clusters_dict = labeled_plot(resample_normalization(daily_pattern,'1min'),5,2,3,silent = False)\n",
    "for val in clusters_dict.values():\n",
    "    print(val.shape[1])"
   ]
  },
  {
   "cell_type": "code",
   "execution_count": null,
   "metadata": {},
   "outputs": [],
   "source": [
    "# granularity 1min 31 clusters\n",
    "clusters_dict = labeled_plot(resample_normalization(daily_pattern,'1min'),5,2,3,silent = False)"
   ]
  },
  {
   "cell_type": "code",
   "execution_count": null,
   "metadata": {},
   "outputs": [],
   "source": [
    "# granularity 1min 31 clusters\n",
    "clusters_dict = labeled_plot(resample_normalization(daily_pattern,'1min'), 5, 2, 3, silent=False)"
   ]
  },
  {
   "cell_type": "code",
   "execution_count": null,
   "metadata": {},
   "outputs": [],
   "source": [
    "clusters_dict = labeled_plot(resample_normalization(daily_pattern,'1min'),12,3,4,silent = False)"
   ]
  },
  {
   "cell_type": "code",
   "execution_count": null,
   "metadata": {},
   "outputs": [],
   "source": [
    "elbow_plot(resample_normalization(daily_pattern,'10min'),n_clusters = np.arange(1,40,2))"
   ]
  },
  {
   "cell_type": "code",
   "execution_count": null,
   "metadata": {},
   "outputs": [],
   "source": [
    "clusters_dict = labeled_plot(resample_normalization(daily_pattern,'10min'),31,4,8,silent = False)"
   ]
  },
  {
   "cell_type": "code",
   "execution_count": null,
   "metadata": {},
   "outputs": [],
   "source": [
    "clusters_dict = labeled_plot(resample_normalization(daily_pattern,'10min'),12,3,4,silent = False)"
   ]
  },
  {
   "cell_type": "code",
   "execution_count": null,
   "metadata": {},
   "outputs": [],
   "source": [
    "elbow_plot(resample_normalization(daily_pattern,'30min'),n_clusters = np.arange(1,40,2))"
   ]
  },
  {
   "cell_type": "code",
   "execution_count": null,
   "metadata": {},
   "outputs": [],
   "source": [
    "clusters_dict = labeled_plot(resample_normalization(daily_pattern,'30min'),5,2,3,silent = False)"
   ]
  },
  {
   "cell_type": "code",
   "execution_count": null,
   "metadata": {},
   "outputs": [],
   "source": [
    "clusters_dict = labeled_plot(resample_normalization(daily_pattern,'30min'),12,3,4,silent = False)"
   ]
  },
  {
   "cell_type": "code",
   "execution_count": null,
   "metadata": {},
   "outputs": [],
   "source": [
    "import pickle\n",
    "with open('kmeans_granuity_1min.pkg','wb+') as f:\n",
    "    pickle.dump(clusters_dict,f)"
   ]
  }
 ],
 "metadata": {
  "kernelspec": {
   "display_name": "Python 3",
   "language": "python",
   "name": "python3"
  },
  "language_info": {
   "codemirror_mode": {
    "name": "ipython",
    "version": 3
   },
   "file_extension": ".py",
   "mimetype": "text/x-python",
   "name": "python",
   "nbconvert_exporter": "python",
   "pygments_lexer": "ipython3",
   "version": "3.8.6"
  },
  "varInspector": {
   "cols": {
    "lenName": 16,
    "lenType": 16,
    "lenVar": 40
   },
   "kernels_config": {
    "python": {
     "delete_cmd_postfix": "",
     "delete_cmd_prefix": "del ",
     "library": "var_list.py",
     "varRefreshCmd": "print(var_dic_list())"
    },
    "r": {
     "delete_cmd_postfix": ") ",
     "delete_cmd_prefix": "rm(",
     "library": "var_list.r",
     "varRefreshCmd": "cat(var_dic_list()) "
    }
   },
   "types_to_exclude": [
    "module",
    "function",
    "builtin_function_or_method",
    "instance",
    "_Feature"
   ],
   "window_display": false
  }
 },
 "nbformat": 4,
 "nbformat_minor": 4
}
