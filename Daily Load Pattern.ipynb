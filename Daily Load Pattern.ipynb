{
 "cells": [
  {
   "cell_type": "code",
   "execution_count": null,
   "id": "383f3eaa",
   "metadata": {
    "id": "cathedral-connection"
   },
   "outputs": [],
   "source": [
    "import pandas as pd\n",
    "import matplotlib.pyplot as plt\n",
    "from matplotlib import gridspec\n",
    "import scipy as sp\n",
    "import numpy as np\n",
    "import torch\n",
    "from torch import nn, functional as F\n",
    "from torch.utils.data import Dataset, DataLoader\n",
    "from ipywidgets import interact, interactive, fixed, interact_manual\n",
    "import ipywidgets as widgets"
   ]
  },
  {
   "cell_type": "code",
   "execution_count": null,
   "id": "89d1984c",
   "metadata": {
    "id": "g13LIDN_C6GO"
   },
   "outputs": [],
   "source": [
    "device = torch.device('cuda' if torch.cuda.is_available() else 'cpu')"
   ]
  },
  {
   "cell_type": "code",
   "execution_count": null,
   "id": "082051a2",
   "metadata": {
    "colab": {
     "base_uri": "https://localhost:8080/"
    },
    "id": "EOmrQYlgDdhJ",
    "outputId": "65b88af0-0f39-44ee-8316-8ad1041a45e8"
   },
   "outputs": [],
   "source": [
    "device"
   ]
  },
  {
   "cell_type": "code",
   "execution_count": null,
   "id": "ddd416fe",
   "metadata": {
    "colab": {
     "base_uri": "https://localhost:8080/"
    },
    "id": "x54RXDEpas_l",
    "outputId": "699ace81-823a-4ec9-8f7c-3bd2e59fd0a5"
   },
   "outputs": [],
   "source": [
    "from google.colab import drive\n",
    "drive.mount('/content/drive')"
   ]
  },
  {
   "cell_type": "code",
   "execution_count": null,
   "id": "006f678e",
   "metadata": {
    "id": "verified-hotel"
   },
   "outputs": [],
   "source": [
    "MIN_IN_DAY = 1440\n",
    "CUTOFF = 172800"
   ]
  },
  {
   "cell_type": "code",
   "execution_count": null,
   "id": "be1cf6a2",
   "metadata": {
    "id": "5aZsBg-tgqso"
   },
   "outputs": [],
   "source": [
    "from zipfile import ZipFile\n",
    "myzip=ZipFile('/content/drive/MyDrive/Colab Notebooks/load/data.zip')\n",
    "f=myzip.open('data.csv')\n",
    "df=pd.read_csv(f)\n",
    "f.close()\n",
    "myzip.close()"
   ]
  },
  {
   "cell_type": "code",
   "execution_count": null,
   "id": "9dc89c45",
   "metadata": {
    "id": "dense-candle"
   },
   "outputs": [],
   "source": [
    "df = pd.read_csv('processed_data.csv')\n",
    "df"
   ]
  },
  {
   "cell_type": "code",
   "execution_count": null,
   "id": "a8ba1623",
   "metadata": {
    "id": "cooperative-thomson"
   },
   "outputs": [],
   "source": [
    "daily = np.array(df.iloc[:, 1:])[:CUTOFF].T  # 346 residents, 172800 min\n",
    "daily = daily.reshape((daily.shape[0], -1, MIN_IN_DAY))  # 346 residents, 120 days, 1440 minutes\n",
    "daily = np.nanmean(daily, axis=1)  # 346 residents, 1440 minutes"
   ]
  },
  {
   "cell_type": "code",
   "execution_count": null,
   "id": "312fad42",
   "metadata": {
    "colab": {
     "base_uri": "https://localhost:8080/",
     "height": 297,
     "referenced_widgets": [
      "68ecfcf9f583470bbec4d1fd6f83446e",
      "7d8934f81697444d932354950de49b17",
      "0683ad75166c45249057d8609db5f3fb",
      "fb3e9edb607e4acc83342d379b14174a",
      "af8f0d4a11ab4894a63e7aa9a5d63a4d",
      "fba805f65b604e5db5391dfd1bddc585",
      "1e92a1d154594f73aeb7d88baf5bc6e8"
     ]
    },
    "id": "recent-timber",
    "outputId": "6b4fc966-78fc-41ce-9e44-3a81d82e76ab"
   },
   "outputs": [],
   "source": [
    "@widgets.interact(resident=(0, daily.shape[0]-1))\n",
    "def plot_daily_load(resident=31):\n",
    "    plt.plot(daily[resident])\n",
    "    plt.show()"
   ]
  },
  {
   "cell_type": "code",
   "execution_count": null,
   "id": "a73f2fc8",
   "metadata": {
    "id": "patient-resident"
   },
   "outputs": [],
   "source": [
    "def normalized(load):\n",
    "    peak = load.max(axis=1)[:, None]\n",
    "    trough = load.min(axis=1)[:, None]\n",
    "    diff = peak - trough\n",
    "    diff[diff == 0.] = 1.\n",
    "    normalized = (load - trough) / diff\n",
    "    return normalized"
   ]
  },
  {
   "cell_type": "code",
   "execution_count": null,
   "id": "8259e930",
   "metadata": {
    "id": "inside-rider"
   },
   "outputs": [],
   "source": [
    "normalized_daily = normalized(daily)"
   ]
  },
  {
   "cell_type": "code",
   "execution_count": null,
   "id": "9cb2b37f",
   "metadata": {
    "colab": {
     "base_uri": "https://localhost:8080/",
     "height": 297,
     "referenced_widgets": [
      "fcdda0ef5c23430eb08722928b68bf8a",
      "635c86e91052482a8ada388477af582e",
      "d3117caba2a5425c886d3d5204c0e939",
      "5484b7fa716f40ccb13a3e8affe5174f",
      "b79e20441d7943428f9fb1de5516ad29",
      "30514a73025247bf8488e9d374107c8d",
      "87814a8fb04645b6996abbf1db3c0f64"
     ]
    },
    "id": "veterinary-converter",
    "outputId": "2f13173a-de7b-4475-f476-95307b485ab6"
   },
   "outputs": [],
   "source": [
    "@widgets.interact(resident=(0, normalized_daily.shape[0]-1))\n",
    "def plot_normalized_daily(resident=217):\n",
    "    plt.plot(normalized_daily[resident])\n",
    "    plt.show()"
   ]
  },
  {
   "cell_type": "code",
   "execution_count": null,
   "id": "c9b495e7",
   "metadata": {
    "id": "psychological-sixth"
   },
   "outputs": [],
   "source": [
    "#\n",
    "#\n",
    "# Training\n",
    "#\n",
    "#"
   ]
  },
  {
   "cell_type": "code",
   "execution_count": null,
   "id": "5c0916d9",
   "metadata": {
    "id": "instant-slope"
   },
   "outputs": [],
   "source": [
    "# Dataset\n",
    "class DS(Dataset):\n",
    "    def __init__(self, data, sep, train=True, device='cuda'):\n",
    "        super().__init__()\n",
    "        if train:\n",
    "            self.data = torch.Tensor(data[:sep]).to(device)\n",
    "        else:\n",
    "            self.data = torch.Tensor(data[sep:]).to(device)\n",
    "        self.data.unsqueeze_(1)\n",
    "    \n",
    "    def __getitem__(self, i):\n",
    "        return self.data[i]\n",
    "    \n",
    "    def __len__(self):\n",
    "        return self.data.shape[0]"
   ]
  },
  {
   "cell_type": "code",
   "execution_count": null,
   "id": "422f20ff",
   "metadata": {
    "id": "thrown-reform"
   },
   "outputs": [],
   "source": [
    "# Autoencoder with MLP"
   ]
  },
  {
   "cell_type": "code",
   "execution_count": null,
   "id": "612240d7",
   "metadata": {
    "id": "electric-daisy"
   },
   "outputs": [],
   "source": [
    "class AE_MLP(nn.Module):\n",
    "    def __init__(self, cfg):\n",
    "        super().__init__()\n",
    "        encoder = []\n",
    "        decoder = []\n",
    "        act = cfg['activation']\n",
    "        \n",
    "        # encoder\n",
    "        for i in range(len(cfg['encoder']) - 1):\n",
    "            cin, cout = cfg['encoder'][i], cfg['encoder'][i+1]\n",
    "            encoder.append(nn.Linear(cin, cout))\n",
    "            encoder.append(act)\n",
    "\n",
    "        # decoder\n",
    "        for i in range(len(cfg['decoder']) - 1):\n",
    "            cin, cout = cfg['decoder'][i], cfg['decoder'][i+1]\n",
    "            decoder.append(nn.Linear(cin, cout))\n",
    "            decoder.append(act)\n",
    "\n",
    "        self.encoder = nn.Sequential(*encoder)\n",
    "        self.decoder = nn.Sequential(*decoder)\n",
    "        \n",
    "    def forward(self, x):\n",
    "        latent = self.encoder(x)\n",
    "        recon = self.decoder(latent)\n",
    "        return latent, recon"
   ]
  },
  {
   "cell_type": "code",
   "execution_count": null,
   "id": "dd9dfef0",
   "metadata": {
    "id": "peaceful-value"
   },
   "outputs": [],
   "source": [
    "cfg = {\n",
    "    'activation': nn.ReLU(),\n",
    "    'encoder': [1440, 256, 64, 4],\n",
    "    'decoder': [4, 64, 256, 1440]\n",
    "}\n",
    "model = AE_MLP(cfg)\n",
    "model.to(device)"
   ]
  },
  {
   "cell_type": "code",
   "execution_count": null,
   "id": "92d78526",
   "metadata": {
    "id": "attractive-analyst"
   },
   "outputs": [],
   "source": []
  },
  {
   "cell_type": "code",
   "execution_count": null,
   "id": "be7de3c6",
   "metadata": {
    "id": "finished-handy"
   },
   "outputs": [],
   "source": [
    "torch.save(model.state_dict(), 'models/AE_CNN_sigmoid_d=2.pt')"
   ]
  },
  {
   "cell_type": "code",
   "execution_count": null,
   "id": "92e80b8e",
   "metadata": {
    "id": "ranging-declaration"
   },
   "outputs": [],
   "source": [
    "# Autoencoder with CNN"
   ]
  },
  {
   "cell_type": "code",
   "execution_count": null,
   "id": "b1b0e053",
   "metadata": {
    "id": "eight-slovakia"
   },
   "outputs": [],
   "source": [
    "class View(nn.Module):\n",
    "    def __init__(self, shape):\n",
    "        super().__init__()\n",
    "        self.shape = shape\n",
    "\n",
    "    def forward(self, x):\n",
    "        return x.view(x.shape[0], *self.shape)\n",
    "\n",
    "class AE_CNN(nn.Module):\n",
    "    def __init__(self, cfg, load_dict=None, device='cuda'):\n",
    "        super().__init__()\n",
    "        self.device = device\n",
    "        act = cfg['activation']\n",
    "        d = cfg['latent_dim']\n",
    "        \n",
    "        # encoder\n",
    "        enc = [\n",
    "            # 1440 -> 288\n",
    "            nn.Conv1d(1, 16, 5, padding=2),\n",
    "            nn.MaxPool1d(kernel_size=5),\n",
    "            act,\n",
    "            \n",
    "            # 288 -> 72\n",
    "            nn.Conv1d(16, 32, 4, padding=2),\n",
    "            nn.MaxPool1d(kernel_size=4),\n",
    "            act,\n",
    "            \n",
    "            # 32*72\n",
    "            nn.Flatten(),\n",
    "            # 32*72 -> d (fully connected)\n",
    "            nn.Linear(32*72, d),\n",
    "#             nn.ReLU(),\n",
    "        ]\n",
    "\n",
    "        # decoder\n",
    "        dec = [\n",
    "            # d -> 32*72 (fully connected)\n",
    "            nn.Linear(d, 32*72),\n",
    "#             nn.ReLU(),\n",
    "            # 72\n",
    "            View((32, 72)),\n",
    "\n",
    "            # 32 -> 96\n",
    "            nn.Conv1d(32, 16, 4, padding=2),\n",
    "            nn.Upsample(288, mode='linear'),\n",
    "            act,\n",
    "            \n",
    "            # 96 -> 288\n",
    "            nn.Conv1d(16, 1, 5, padding=2),\n",
    "            nn.Upsample(1440, mode='linear'),\n",
    "#             nn.Tanh()\n",
    "            nn.Sigmoid(),\n",
    "        ]\n",
    "        \n",
    "        self.encoder = nn.Sequential(*enc)\n",
    "        self.decoder = nn.Sequential(*dec)\n",
    "\n",
    "        self.to(device)\n",
    "        \n",
    "        if load_dict is not None:\n",
    "            self.load_state_dict(\n",
    "                torch.load(load_dict, map_location=self.device)\n",
    "            )\n",
    "        \n",
    "    def forward(self, x):\n",
    "        latent = self.encoder(x)\n",
    "        recon = self.decoder(latent)\n",
    "        return latent, recon\n",
    "        return latent"
   ]
  },
  {
   "cell_type": "code",
   "execution_count": null,
   "id": "da5e9789",
   "metadata": {
    "id": "initial-flush"
   },
   "outputs": [],
   "source": [
    "cfg = {\n",
    "    'latent_dim': 2,\n",
    "    'activation': nn.ReLU(),\n",
    "}\n",
    "\n",
    "# model_dict = 'models/AE_CNN_sigmoid_d=8.pt'\n",
    "model_dict = None\n",
    "model = AE_CNN(cfg, model_dict, device)"
   ]
  },
  {
   "cell_type": "code",
   "execution_count": null,
   "id": "a6356b3c",
   "metadata": {
    "id": "compliant-subsection"
   },
   "outputs": [],
   "source": [
    "# model(test_data).shape\n",
    "l, r = model(test_data)\n",
    "l.shape, r.shape"
   ]
  },
  {
   "cell_type": "code",
   "execution_count": null,
   "id": "fb926336",
   "metadata": {
    "id": "single-upset",
    "tags": []
   },
   "outputs": [],
   "source": [
    "# Training setup\n",
    "# At each epoch, randomly shuffle the daily loads, then feed in the network sequentially.\n",
    "ntraindata = 250\n",
    "epoch = 1000\n",
    "lr = 1e-3\n",
    "optim = torch.optim.Adam(model.parameters(), lr=lr)\n",
    "loss_fn = nn.MSELoss()\n",
    "bsz = 125\n",
    "train_dataset = DS(normalized_daily, ntraindata, train=True, device=device)\n",
    "test_dataset = DS(normalized_daily, ntraindata, train=False, device=device)\n",
    "train_loader = DataLoader(train_dataset, batch_size=bsz, shuffle=True)\n",
    "test_loader = DataLoader(test_dataset, batch_size=len(test_dataset), shuffle=False)\n",
    "test_data = iter(test_loader).next()\n",
    "\n",
    "train_loss = []\n",
    "test_loss = []"
   ]
  },
  {
   "cell_type": "code",
   "execution_count": null,
   "id": "76e77308",
   "metadata": {
    "id": "quiet-bidding"
   },
   "outputs": [],
   "source": [
    "def vis_epoch(train_loss, val_loss, val_data, recon_data, rows=4, cols=4, epoch=-1, saveat=None):\n",
    "    plt.rcParams.update(plt.rcParamsDefault)\n",
    "    fig = plt.figure(figsize=(20, 8))\n",
    "    gs = gridspec.GridSpec(1, 2)\n",
    "    ax0 = fig.add_subplot(gs[0])\n",
    "    ax0.set_xlabel('Epochs', fontsize=11, weight='semibold')\n",
    "    ax0.set_ylabel('MSE', fontsize=11, weight='semibold')\n",
    "    ax0.plot(train_loss, color='#fc5a50', label='Train', alpha=0.9)\n",
    "    ax0.plot(val_loss, color='#029386', label='Validation', alpha=0.9)\n",
    "    ax0.spines['right'].set_visible(False)\n",
    "    ax0.spines['top'].set_visible(False)\n",
    "    ax0.set_ylim([0., 0.1])\n",
    "    ax0.legend(prop={'size': 11,})\n",
    "    grid = gridspec.GridSpecFromSubplotSpec(rows, cols, subplot_spec=gs[1])\n",
    "\n",
    "    for i in range(rows):\n",
    "        for j in range(cols):\n",
    "            ax = fig.add_subplot(grid[i, j])\n",
    "            idx = i * rows + j\n",
    "            ax.plot(test_data[idx][0].detach().cpu(), color='#2b7ce0', alpha=0.6)\n",
    "            ax.plot(recon_data[idx][0].detach().cpu(), color='#e02b5b', alpha=0.9) # # #e03d2b\n",
    "            ax.set_ylim([0., 1.])\n",
    "            ax.axis('off')\n",
    "    if saveat is not None:\n",
    "        plt.savefig(f'{saveat}/{epoch}.png', format='png')\n",
    "    plt.show()\n",
    "\n",
    "\n",
    "# Training loops\n",
    "for e in range(epoch):\n",
    "    for ibatch, batch in enumerate(train_loader):\n",
    "        optim.zero_grad()\n",
    "        latent, recon = model(batch)\n",
    "        loss = loss_fn(recon, batch)\n",
    "        loss.backward()\n",
    "        optim.step()\n",
    "\n",
    "    if e % 1 == 0:\n",
    "        train_loss.append(loss.item())\n",
    "        # evaluate network\n",
    "        with torch.no_grad():\n",
    "            latent, recon = model(test_data)\n",
    "            loss = loss_fn(recon, test_data)\n",
    "            test_loss.append(loss.item())\n",
    "            vis_epoch(train_loss, test_loss, test_data, recon, \n",
    "                      rows=4, cols=4, epoch=e, saveat='/home/jamie/Desktop/graphics')        "
   ]
  },
  {
   "cell_type": "code",
   "execution_count": null,
   "id": "70ebbfa7",
   "metadata": {
    "id": "equal-making"
   },
   "outputs": [],
   "source": [
    "#\n",
    "#\n",
    "# WILLLLD EXPERIMENTS!\n",
    "#\n",
    "#"
   ]
  },
  {
   "cell_type": "code",
   "execution_count": null,
   "id": "d9f44d76",
   "metadata": {
    "colab": {
     "base_uri": "https://localhost:8080/",
     "height": 229
    },
    "id": "continental-registrar",
    "outputId": "2a1a1a6b-5177-4b18-ce02-55bbf9a19a3c"
   },
   "outputs": [],
   "source": [
    "data = DS(normalized_daily, sep=0, train=False, device=device).data\n",
    "data_c = data.detach().cpu().numpy()[:, 0]\n",
    "\n",
    "latent, pred = model(data)\n",
    "latent = latent.detach().cpu().numpy()\n",
    "pred = pred.detach().cpu().numpy()[:, 0]\n",
    "latent.shape, pred.shape"
   ]
  },
  {
   "cell_type": "code",
   "execution_count": null,
   "id": "c1594d9f",
   "metadata": {
    "id": "intensive-rhythm"
   },
   "outputs": [],
   "source": [
    "@widgets.interact(resident=(0, data.shape[0]-1))\n",
    "def plot_reconstruction(resident=data.shape[0]//2):\n",
    "    plt.plot(data_c[resident])\n",
    "    plt.plot(pred[resident])\n",
    "    plt.show()\n",
    "    print(np.around(latent[resident], 5))"
   ]
  },
  {
   "cell_type": "code",
   "execution_count": null,
   "id": "4a706cb7",
   "metadata": {
    "id": "mechanical-birth"
   },
   "outputs": [],
   "source": [
    "from sklearn.cluster import KMeans"
   ]
  },
  {
   "cell_type": "code",
   "execution_count": null,
   "id": "7668c843",
   "metadata": {
    "colab": {
     "base_uri": "https://localhost:8080/",
     "height": 162
    },
    "id": "religious-filing",
    "outputId": "4241fd1c-55a1-449f-d996-efd7f4d749fb"
   },
   "outputs": [],
   "source": [
    "latent.shape"
   ]
  },
  {
   "cell_type": "code",
   "execution_count": null,
   "id": "ada717fc",
   "metadata": {
    "id": "potential-commission"
   },
   "outputs": [],
   "source": [
    "clusters = 7"
   ]
  },
  {
   "cell_type": "code",
   "execution_count": null,
   "id": "d6d8a885",
   "metadata": {
    "id": "logical-equipment"
   },
   "outputs": [],
   "source": [
    "kmeans = KMeans(n_clusters=clusters, random_state=2000).fit(latent)"
   ]
  },
  {
   "cell_type": "code",
   "execution_count": null,
   "id": "1f12e163",
   "metadata": {
    "id": "bizarre-british"
   },
   "outputs": [],
   "source": [
    "kmeans.labels_\n",
    "kmeans.cluster_centers_"
   ]
  },
  {
   "cell_type": "code",
   "execution_count": null,
   "id": "e61fc1d3",
   "metadata": {
    "id": "embedded-young"
   },
   "outputs": [],
   "source": [
    "def decode(latent_vec: np.array, model) -> np.array:\n",
    "    latent_tensor = torch.Tensor(latent_vec[None,:,None]).to(device)\n",
    "    with torch.no_grad():\n",
    "        decoded = model.decoder(latent_tensor.permute(0, 2, 1))\n",
    "    return decoded.cpu().numpy()[0, 0, :]\n"
   ]
  },
  {
   "cell_type": "code",
   "execution_count": null,
   "id": "19f039df",
   "metadata": {
    "colab": {
     "base_uri": "https://localhost:8080/",
     "height": 229
    },
    "id": "verified-empire",
    "outputId": "3453bf46-678b-45f5-87d1-1bbfdbf62795"
   },
   "outputs": [],
   "source": [
    "@widgets.interact(Cluster=(0, clusters-1))\n",
    "def plot_cluster(Cluster):\n",
    "    import math\n",
    "    resd = (kmeans.labels_==Cluster)\n",
    "    load = data_c[resd]\n",
    "    mean = load.mean(axis=0)\n",
    "    centroid = kmeans.cluster_centers_[Cluster]\n",
    "    decoded_mean = decode(centroid, model)\n",
    "    print(f'{load.shape[0]} residents')\n",
    "    alpha = 1.0 / math.sqrt(load.shape[0]) / 2.\n",
    "    plt.plot(load.T, alpha=alpha)\n",
    "    plt.plot(mean, c='red')\n",
    "    plt.plot(decoded_mean, c='green')\n",
    "    plt.show()\n",
    "    print('Latent centroid:')\n",
    "    print(np.around(centroid, 5))"
   ]
  },
  {
   "cell_type": "code",
   "execution_count": null,
   "id": "5c15e7d6",
   "metadata": {
    "id": "greek-accreditation"
   },
   "outputs": [],
   "source": [
    "def display_cluster(model, latent_dim=8, figsize=(15, 6)):\n",
    "    '''\n",
    "    model: the neural network used for decoding\n",
    "    latent_dim int: the dimention of latent vectors\n",
    "    '''\n",
    "    def extract_value(**latents):\n",
    "        latent_data = np.array(list(latents.values()))\n",
    "        reconstruction = decode(latent_data, model)\n",
    "        plt.figure(figsize = figsize)\n",
    "        plt.plot(reconstruction)\n",
    "        plt.ylim((0,1))\n",
    "\n",
    "    slider_list = [widgets.FloatSlider(value = 0, min = -5, max = 5, \n",
    "                                       step = 0.01, drscription = 'latent variable' + str(i),\n",
    "                                       orientation = 'horizontal') for i in range(latent_dim)]\n",
    "    ui = widgets.GridBox(slider_list,layout = widgets.Layout(grid_template_columns=\"repeat(3, 300px)\"))\n",
    "    arg_dict = {str(idx):slider for idx, slider in enumerate(slider_list)}\n",
    "#     arg_dict['model'] = model\n",
    "    out = widgets.interactive_output(extract_value, arg_dict)\n",
    "    display(ui,out)\n",
    "    "
   ]
  },
  {
   "cell_type": "code",
   "execution_count": null,
   "id": "926dac52",
   "metadata": {
    "colab": {
     "base_uri": "https://localhost:8080/",
     "height": 496,
     "referenced_widgets": [
      "206b033e42534520916cff87a4fc640d",
      "b5a3ee58720642ef86580a05ac53daa5",
      "81daaabfab0b45bea6077fc0dc800eb4",
      "8a2d5898b8b146e29d7a3711a29420ef",
      "581fbe4171214c459fa1932d00245769",
      "a5dba27bda3842e39d796fd9d6248d09",
      "a79f9723caf64e08a26a77935be2ddb9",
      "44a5889cf4bf449496eb766314d3e581",
      "34927c3937d744449ffeda55cfc9d27b",
      "930ba00cd6124186bb997edf6f7cb360",
      "1b4c8705dd114318a90aba56b3fefd98",
      "a7e2e0c1a4fd494b847e89167b556773",
      "612e58fd57a74d85a01b370471cc4e38",
      "220c5c2aeb5a400982e0dcc0b8cb998e",
      "0dd48323de5e4775ad1e970da79bf115",
      "55954bec268340c692ea9246a7d331be"
     ]
    },
    "id": "rapid-pennsylvania",
    "outputId": "488451bc-be78-470a-bc2e-604de8e6801b"
   },
   "outputs": [],
   "source": [
    "latent_dim = 4\n",
    "cfg = {\n",
    "    'latent_dim': latent_dim,\n",
    "    'activation': nn.ReLU(),\n",
    "}\n",
    "\n",
    "model_dict = '/content/drive/MyDrive/Colab Notebooks/load/models/AE_CNN_sigmoid_d={}.pt'.format(latent_dim)\n",
    "#model_dict = None\n",
    "model = AE_CNN(cfg, model_dict, device)\n",
    "display_cluster(model, latent_dim=latent_dim)"
   ]
  },
  {
   "cell_type": "code",
   "execution_count": null,
   "id": "a7eb4d8b",
   "metadata": {
    "colab": {
     "base_uri": "https://localhost:8080/",
     "height": 387
    },
    "id": "anonymous-george",
    "outputId": "1a5d8e91-ada8-4512-8950-dadff6ce92fb"
   },
   "outputs": [],
   "source": [
    "#### PCA dimension reduction\n",
    "\n",
    "latent_dim = 2\n",
    "\n",
    "cfg = {\n",
    "    'latent_dim': latent_dim,\n",
    "    'activation': nn.ReLU(),\n",
    "}\n",
    "\n",
    "model_dict = 'models/AE_CNN_sigmoid_d={}.pt'.format(latent_dim)\n",
    "#model_dict = None\n",
    "model = AE_CNN(cfg, model_dict,device = device)\n",
    "model.to(device)\n",
    "\n",
    "\n",
    "data = DS(normalized_daily, sep=0, train=False).data\n",
    "latent, _ = model(data)\n",
    "latent = latent.detach().cpu().numpy()\n",
    "\n"
   ]
  },
  {
   "cell_type": "code",
   "execution_count": null,
   "id": "517e72f0",
   "metadata": {
    "id": "dcr_lvVWj6K8"
   },
   "outputs": [],
   "source": [
    "from sklearn.cluster import KMeans\n",
    "nclusters = 6\n",
    "kmm_latent = KMeans(n_clusters = nclusters, random_state = 2000).fit(latent)\n",
    "kmm_original = KMeans(n_clusters = nclusters, random_state = 2000).fit(normalized_daily)"
   ]
  },
  {
   "cell_type": "code",
   "execution_count": null,
   "id": "2e65a883",
   "metadata": {
    "colab": {
     "base_uri": "https://localhost:8080/",
     "height": 284
    },
    "id": "EIwIM61d6Wn9",
    "outputId": "42acc81b-8193-4c58-f50d-77598808b1e1"
   },
   "outputs": [],
   "source": [
    "# pca use latent variable\n",
    "from sklearn.decomposition import PCA\n",
    "pca = PCA(n_components = 2).fit(latent)\n",
    "pc = pca.transform(latent)\n",
    "plt.scatter(pc[:,0],pc[:,1],c = kmm_latent.labels_,cmap = 'coolwarm')"
   ]
  },
  {
   "cell_type": "code",
   "execution_count": null,
   "id": "801fca1b",
   "metadata": {
    "colab": {
     "base_uri": "https://localhost:8080/",
     "height": 282
    },
    "id": "uGwrIExT8QoB",
    "outputId": "a1903476-ddc8-4192-9764-795572025fb6"
   },
   "outputs": [],
   "source": [
    "# pca use original data\n",
    "pca = PCA(n_components = 2).fit(normalized_daily)\n",
    "pc = pca.transform(normalized_daily)\n",
    "plt.scatter(pc[:,0],pc[:,1],c = kmm_original.labels_,cmap = 'coolwarm')"
   ]
  },
  {
   "cell_type": "code",
   "execution_count": null,
   "id": "3c095ea4",
   "metadata": {
    "colab": {
     "base_uri": "https://localhost:8080/",
     "height": 282
    },
    "id": "WSzEik-W8oPJ",
    "outputId": "f1dd7702-b023-48b8-93ee-ae6c93c2ba93"
   },
   "outputs": [],
   "source": [
    "from sklearn.manifold import TSNE\n",
    "# tSNE\n",
    "embeded = TSNE(n_components = 2,perplexity = 80, learning_rate = 20,random_state=2000).fit_transform(latent)\n",
    "plt.scatter(embeded[:,0], embeded[:,1], c = kmm_latent.labels_, cmap = 'coolwarm')"
   ]
  },
  {
   "cell_type": "code",
   "execution_count": null,
   "id": "b9868020",
   "metadata": {
    "colab": {
     "base_uri": "https://localhost:8080/",
     "height": 282
    },
    "id": "lZu-n1V7-Ez5",
    "outputId": "db5cccc4-1768-41b3-f64f-2ac309720f21"
   },
   "outputs": [],
   "source": [
    "# tSNE\n",
    "embeded = TSNE(n_components = 2,perplexity = 80, learning_rate = 20,random_state=2000).fit_transform(normalized_daily)\n",
    "plt.scatter(embeded[:,0], embeded[:,1], c = kmm_original.labels_, cmap = 'coolwarm')"
   ]
  },
  {
   "cell_type": "code",
   "execution_count": null,
   "id": "99d35ca6",
   "metadata": {
    "id": "-LNKcj9a_k2z"
   },
   "outputs": [],
   "source": [
    "# elbow plot of kmeans using original and latent data\n",
    "from sklearn.cluster import KMeans\n",
    "from scipy.spatial.distance import cdist\n",
    "from collections import defaultdict\n",
    "# plot elbow plot\n",
    "def elbow_plot(X,n_clusters = np.arange(1,40,2)):\n",
    "    distortions = []\n",
    "    for n in n_clusters:\n",
    "        kmmodel = KMeans(n)\n",
    "        kmmodel.fit(X)\n",
    "        dis = 0\n",
    "        for i in range(n):\n",
    "            cluster_data = X[kmmodel.labels_ == i]\n",
    "            centroid = cluster_data.mean(0)\n",
    "            dis += ((cluster_data - centroid)**2).sum()\n",
    "        distortions.append(dis/X.shape[0])\n",
    "        # distortions.append(sum(np.min(cdist(X, kmmodel.cluster_centers_, 'euclidean'), axis=1)) / X.shape[0])\n",
    "    plt.plot(n_clusters, distortions, 'bx-')\n",
    "    plt.xticks(n_clusters)\n",
    "    plt.xlabel('k')\n",
    "    plt.ylabel('Distortion')\n",
    "    plt.title('The Elbow Method')\n",
    "    return distortions\n",
    "\n",
    "def elbow_plot_latent(X,model,n_clusters = np.arange(1,40,2)):\n",
    "    distortions = []\n",
    "    data = DS(X, sep=0, train=False, device=device).data\n",
    "    latent,_ = model(data)\n",
    "    latent = latent.detach().cpu().numpy()\n",
    "    for n in n_clusters:\n",
    "        kmmodel = KMeans(n)\n",
    "        kmmodel.fit(latent)\n",
    "        dis = 0\n",
    "        for i in range(n):\n",
    "            cluster_data = X[kmmodel.labels_ == i]\n",
    "            centroid = cluster_data.mean(0)\n",
    "            dis += ((cluster_data - centroid)**2).sum(1).sum()\n",
    "        distortions.append(dis/X.shape[0])\n",
    "    plt.plot(n_clusters, distortions, 'rx-')\n",
    "    plt.xticks(n_clusters)\n",
    "    plt.xlabel('k')\n",
    "    plt.ylabel('Distortion')\n",
    "    plt.title('The Elbow Method')\n",
    "    return distortions"
   ]
  },
  {
   "cell_type": "code",
   "execution_count": null,
   "id": "3ee0e4a9",
   "metadata": {
    "colab": {
     "base_uri": "https://localhost:8080/"
    },
    "id": "WsfZ3DTNS1C3",
    "outputId": "ea720ae8-37df-4910-eb92-42c91612b34f"
   },
   "outputs": [],
   "source": []
  },
  {
   "cell_type": "code",
   "execution_count": null,
   "id": "6086ad74",
   "metadata": {
    "colab": {
     "base_uri": "https://localhost:8080/",
     "height": 349
    },
    "id": "y7MVGrF_Mi-m",
    "outputId": "144a0193-f0da-4bc5-c900-cb2ac841ff66"
   },
   "outputs": [],
   "source": [
    "latent_elbow = elbow_plot_latent(normalized_daily,model,np.arange(1,20))\n",
    "normal_elbow = elbow_plot(normalized_daily,np.arange(1,20))"
   ]
  },
  {
   "cell_type": "code",
   "execution_count": null,
   "id": "309563f6",
   "metadata": {
    "colab": {
     "base_uri": "https://localhost:8080/",
     "height": 295
    },
    "id": "2uoNHasHMNwu",
    "outputId": "473c7527-0dcc-4fa7-ca7d-447d94cf0e41"
   },
   "outputs": [],
   "source": [
    "elbow_plot(normalized_daily)"
   ]
  }
 ],
 "metadata": {
  "accelerator": "GPU",
  "colab": {
   "collapsed_sections": [],
   "name": "Copy of Daily Load Pattern.ipynb",
   "provenance": [],
   "toc_visible": true
  },
  "kernelspec": {
   "display_name": "Python 3",
   "language": "python",
   "name": "python3"
  },
  "language_info": {
   "codemirror_mode": {
    "name": "ipython",
    "version": 3
   },
   "file_extension": ".py",
   "mimetype": "text/x-python",
   "name": "python",
   "nbconvert_exporter": "python",
   "pygments_lexer": "ipython3",
   "version": "3.6.10"
  },
  "varInspector": {
   "cols": {
    "lenName": 16,
    "lenType": 16,
    "lenVar": 40
   },
   "kernels_config": {
    "python": {
     "delete_cmd_postfix": "",
     "delete_cmd_prefix": "del ",
     "library": "var_list.py",
     "varRefreshCmd": "print(var_dic_list())"
    },
    "r": {
     "delete_cmd_postfix": ") ",
     "delete_cmd_prefix": "rm(",
     "library": "var_list.r",
     "varRefreshCmd": "cat(var_dic_list()) "
    }
   },
   "types_to_exclude": [
    "module",
    "function",
    "builtin_function_or_method",
    "instance",
    "_Feature"
   ],
   "window_display": false
  }
 },
 "nbformat": 4,
 "nbformat_minor": 5
}
