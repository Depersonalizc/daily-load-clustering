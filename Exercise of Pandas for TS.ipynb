{
 "cells": [
  {
   "cell_type": "markdown",
   "metadata": {},
   "source": [
    "# Dealing With Time Series in Python"
   ]
  },
  {
   "cell_type": "code",
   "execution_count": 1,
   "metadata": {
    "ExecuteTime": {
     "end_time": "2021-04-07T13:52:05.218903Z",
     "start_time": "2021-04-07T13:52:05.204980Z"
    }
   },
   "outputs": [
    {
     "data": {
      "text/plain": [
       "datetime.datetime(2021, 4, 7, 21, 52, 5, 205979)"
      ]
     },
     "execution_count": 1,
     "metadata": {},
     "output_type": "execute_result"
    }
   ],
   "source": [
    "from datetime import datetime\n",
    "datetime.now()"
   ]
  },
  {
   "cell_type": "code",
   "execution_count": 2,
   "metadata": {
    "ExecuteTime": {
     "end_time": "2021-04-07T13:53:18.806356Z",
     "start_time": "2021-04-07T13:53:18.801402Z"
    }
   },
   "outputs": [
    {
     "data": {
      "text/plain": [
       "datetime.timedelta(926, 56700)"
      ]
     },
     "execution_count": 2,
     "metadata": {},
     "output_type": "execute_result"
    }
   ],
   "source": [
    "# time delta represents the temporal difference between two datetime objects\n",
    "delta = datetime(2011,1,7) - datetime(2008,6,24,8,15)\n",
    "delta"
   ]
  },
  {
   "cell_type": "code",
   "execution_count": 3,
   "metadata": {
    "ExecuteTime": {
     "end_time": "2021-04-07T13:53:41.508272Z",
     "start_time": "2021-04-07T13:53:41.502287Z"
    }
   },
   "outputs": [
    {
     "name": "stdout",
     "output_type": "stream",
     "text": [
      "926\n",
      "56700\n"
     ]
    }
   ],
   "source": [
    "print(delta.days)\n",
    "print(delta.seconds)"
   ]
  },
  {
   "cell_type": "code",
   "execution_count": 6,
   "metadata": {
    "ExecuteTime": {
     "end_time": "2021-04-07T13:55:38.990765Z",
     "start_time": "2021-04-07T13:55:38.984783Z"
    }
   },
   "outputs": [
    {
     "data": {
      "text/plain": [
       "datetime.datetime(2011, 1, 7, 0, 0)"
      ]
     },
     "execution_count": 6,
     "metadata": {},
     "output_type": "execute_result"
    }
   ],
   "source": [
    "datetime(2008,6,24,8,15)+delta"
   ]
  },
  {
   "cell_type": "markdown",
   "metadata": {},
   "source": [
    "## Converting Between String and Datetime"
   ]
  },
  {
   "cell_type": "code",
   "execution_count": 10,
   "metadata": {
    "ExecuteTime": {
     "end_time": "2021-04-07T14:01:14.289440Z",
     "start_time": "2021-04-07T14:01:14.284412Z"
    }
   },
   "outputs": [
    {
     "data": {
      "text/plain": [
       "'2011/01-03-1'"
      ]
     },
     "execution_count": 10,
     "metadata": {},
     "output_type": "execute_result"
    }
   ],
   "source": [
    "#use str or strftime method to convert datetime to string\n",
    "stamp = datetime(2011,1,3)\n",
    "stamp.strftime('%Y/%m-%d-%w') #%w is weekday as integer 0(sunday)-6(saturday)"
   ]
  },
  {
   "cell_type": "code",
   "execution_count": 11,
   "metadata": {
    "ExecuteTime": {
     "end_time": "2021-04-07T14:02:55.617056Z",
     "start_time": "2021-04-07T14:02:55.611073Z"
    }
   },
   "outputs": [
    {
     "data": {
      "text/plain": [
       "datetime.datetime(2011, 1, 3, 0, 0)"
      ]
     },
     "execution_count": 11,
     "metadata": {},
     "output_type": "execute_result"
    }
   ],
   "source": [
    "# same method can be used to conver string to datetime\n",
    "datetime.strptime('2011-01-03','%Y-%m-%d')"
   ]
  },
  {
   "cell_type": "code",
   "execution_count": 12,
   "metadata": {
    "ExecuteTime": {
     "end_time": "2021-04-07T14:03:59.700551Z",
     "start_time": "2021-04-07T14:03:59.692563Z"
    }
   },
   "outputs": [
    {
     "data": {
      "text/plain": [
       "datetime.datetime(2011, 1, 3, 0, 0)"
      ]
     },
     "execution_count": 12,
     "metadata": {},
     "output_type": "execute_result"
    }
   ],
   "source": [
    "# automatic converting with parser\n",
    "from dateutil.parser import parse\n",
    "parse('2011/01/03')"
   ]
  },
  {
   "cell_type": "code",
   "execution_count": 14,
   "metadata": {
    "ExecuteTime": {
     "end_time": "2021-04-07T14:04:47.775178Z",
     "start_time": "2021-04-07T14:04:47.770216Z"
    }
   },
   "outputs": [
    {
     "data": {
      "text/plain": [
       "datetime.datetime(1997, 1, 31, 22, 45)"
      ]
     },
     "execution_count": 14,
     "metadata": {},
     "output_type": "execute_result"
    }
   ],
   "source": [
    "# parse can identify more complicated string\n",
    "parse('Jan 31, 1997 10:45 PM')\n",
    "parse('6/12/2011',dayfirst = False)"
   ]
  },
  {
   "cell_type": "code",
   "execution_count": 16,
   "metadata": {
    "ExecuteTime": {
     "end_time": "2021-04-07T14:07:20.231614Z",
     "start_time": "2021-04-07T14:07:19.943328Z"
    }
   },
   "outputs": [
    {
     "data": {
      "text/plain": [
       "DatetimeIndex(['2011-07-06 12:00:00', '2019-02-28 00:00:00'], dtype='datetime64[ns]', freq=None)"
      ]
     },
     "execution_count": 16,
     "metadata": {},
     "output_type": "execute_result"
    }
   ],
   "source": [
    "# pandas use to_datetime convert string to datetime very quickly\n",
    "import pandas as pd\n",
    "datestrs = ['2011-07-06 12:00:00',\"2019-02-28 00:00:00\"]\n",
    "pd.to_datetime(datestrs)"
   ]
  },
  {
   "cell_type": "code",
   "execution_count": 30,
   "metadata": {
    "ExecuteTime": {
     "end_time": "2021-04-07T14:24:09.056479Z",
     "start_time": "2021-04-07T14:24:09.051492Z"
    }
   },
   "outputs": [],
   "source": [
    "delta = parse('2011-05-03 00:02:00-05')-parse('2011-05-03 00:01:00-05')"
   ]
  },
  {
   "cell_type": "code",
   "execution_count": 28,
   "metadata": {
    "ExecuteTime": {
     "end_time": "2021-04-07T14:23:54.133191Z",
     "start_time": "2021-04-07T14:23:54.128171Z"
    }
   },
   "outputs": [
    {
     "data": {
      "text/plain": [
       "datetime.datetime(2011, 5, 3, 0, 1, tzinfo=tzoffset(None, -21600))"
      ]
     },
     "execution_count": 28,
     "metadata": {},
     "output_type": "execute_result"
    }
   ],
   "source": [
    "parse('2011-05-03 00:01:00-06')"
   ]
  },
  {
   "cell_type": "code",
   "execution_count": 29,
   "metadata": {
    "ExecuteTime": {
     "end_time": "2021-04-07T14:24:01.977032Z",
     "start_time": "2021-04-07T14:24:01.971041Z"
    }
   },
   "outputs": [
    {
     "data": {
      "text/plain": [
       "datetime.datetime(2011, 5, 3, 0, 2, tzinfo=tzoffset(None, -18000))"
      ]
     },
     "execution_count": 29,
     "metadata": {},
     "output_type": "execute_result"
    }
   ],
   "source": [
    "parse('2011-05-03 00:02:00-05')"
   ]
  },
  {
   "cell_type": "code",
   "execution_count": 33,
   "metadata": {
    "ExecuteTime": {
     "end_time": "2021-04-07T14:24:49.640447Z",
     "start_time": "2021-04-07T14:24:49.632458Z"
    }
   },
   "outputs": [
    {
     "data": {
      "text/plain": [
       "6.0"
      ]
     },
     "execution_count": 33,
     "metadata": {},
     "output_type": "execute_result"
    }
   ],
   "source": []
  },
  {
   "cell_type": "code",
   "execution_count": 32,
   "metadata": {
    "ExecuteTime": {
     "end_time": "2021-04-07T14:24:15.117502Z",
     "start_time": "2021-04-07T14:24:15.111520Z"
    }
   },
   "outputs": [
    {
     "data": {
      "text/plain": [
       "0"
      ]
     },
     "execution_count": 32,
     "metadata": {},
     "output_type": "execute_result"
    }
   ],
   "source": [
    "delta.days"
   ]
  },
  {
   "cell_type": "markdown",
   "metadata": {},
   "source": [
    "## Generate Different Data Ranges\n",
    "Pandas can handle variety of data ranges, just pass different keywords in freq argument;"
   ]
  },
  {
   "cell_type": "code",
   "execution_count": 35,
   "metadata": {
    "ExecuteTime": {
     "end_time": "2021-04-08T18:07:54.479409Z",
     "start_time": "2021-04-08T18:07:54.427517Z"
    }
   },
   "outputs": [
    {
     "data": {
      "text/plain": [
       "DatetimeIndex(['2021-01-29', '2021-02-26', '2021-03-31', '2021-04-30',\n",
       "               '2021-05-31', '2021-06-30', '2021-07-30', '2021-08-31',\n",
       "               '2021-09-30', '2021-10-29', '2021-11-30', '2021-12-31'],\n",
       "              dtype='datetime64[ns]', freq='BM')"
      ]
     },
     "execution_count": 35,
     "metadata": {},
     "output_type": "execute_result"
    }
   ],
   "source": [
    "pd.date_range('2021-01-01','2022-01-01',freq = 'BM') # last weekday of each month"
   ]
  },
  {
   "cell_type": "code",
   "execution_count": 37,
   "metadata": {
    "ExecuteTime": {
     "end_time": "2021-04-08T18:09:22.191955Z",
     "start_time": "2021-04-08T18:09:22.183946Z"
    }
   },
   "outputs": [
    {
     "data": {
      "text/plain": [
       "DatetimeIndex(['2000-01-31', '2001-01-31', '2002-01-31', '2003-01-31',\n",
       "               '2004-01-31', '2005-01-31', '2006-01-31', '2007-01-31',\n",
       "               '2008-01-31', '2009-01-31', '2010-01-31', '2011-01-31',\n",
       "               '2012-01-31', '2013-01-31', '2014-01-31', '2015-01-31',\n",
       "               '2016-01-31', '2017-01-31', '2018-01-31', '2019-01-31',\n",
       "               '2020-01-31', '2021-01-31'],\n",
       "              dtype='datetime64[ns]', freq='A-JAN')"
      ]
     },
     "execution_count": 37,
     "metadata": {},
     "output_type": "execute_result"
    }
   ],
   "source": [
    "pd.date_range('2000-01-01','2022-01-01',freq = 'A-JAN') # annual day anchored on the last calender day of given month"
   ]
  },
  {
   "cell_type": "code",
   "execution_count": 50,
   "metadata": {
    "ExecuteTime": {
     "end_time": "2021-04-08T18:22:41.032602Z",
     "start_time": "2021-04-08T18:22:41.023674Z"
    }
   },
   "outputs": [
    {
     "data": {
      "text/plain": [
       "DatetimeIndex(['2000-01-07', '2000-01-14', '2000-01-21', '2000-01-28',\n",
       "               '2000-02-04', '2000-02-11', '2000-02-18', '2000-02-25'],\n",
       "              dtype='datetime64[ns]', freq='W-FRI')"
      ]
     },
     "execution_count": 50,
     "metadata": {},
     "output_type": "execute_result"
    }
   ],
   "source": [
    "pd.date_range('2000-01-01','2000-03-01',freq = 'W-FRI') # Friday of each week"
   ]
  },
  {
   "cell_type": "code",
   "execution_count": 48,
   "metadata": {
    "ExecuteTime": {
     "end_time": "2021-04-08T18:21:41.196724Z",
     "start_time": "2021-04-08T18:21:41.191694Z"
    }
   },
   "outputs": [
    {
     "data": {
      "text/plain": [
       "Period('2000-01-03', 'B')"
      ]
     },
     "execution_count": 48,
     "metadata": {},
     "output_type": "execute_result"
    }
   ],
   "source": [
    "#period is an object that simpler and easier to handle as index. TimeStamp has issues like timezone. \n",
    "#Period is just a label of time and can be changed to different frequency. \n",
    "pd.Period(2000,freq = 'B')"
   ]
  },
  {
   "cell_type": "markdown",
   "metadata": {},
   "source": [
    "## DownSampling and UpSampling \n",
    "Change the aggregation level of time series."
   ]
  },
  {
   "cell_type": "code",
   "execution_count": 62,
   "metadata": {
    "ExecuteTime": {
     "end_time": "2021-04-08T18:36:29.939082Z",
     "start_time": "2021-04-08T18:36:29.928218Z"
    }
   },
   "outputs": [
    {
     "data": {
      "text/plain": [
       "2000-01-01 00:05:00    0.572602\n",
       "2000-01-01 00:10:00   -0.386194\n",
       "2000-01-01 00:15:00    0.603076\n",
       "2000-01-01 00:20:00   -0.462564\n",
       "2000-01-01 00:25:00    0.048983\n",
       "2000-01-01 00:30:00    0.667300\n",
       "2000-01-01 00:35:00    0.448396\n",
       "2000-01-01 00:40:00   -0.362919\n",
       "2000-01-01 00:45:00   -0.514536\n",
       "2000-01-01 00:50:00    0.551266\n",
       "2000-01-01 00:55:00    0.914251\n",
       "2000-01-01 01:00:00   -0.374473\n",
       "2000-01-01 01:05:00   -0.720779\n",
       "2000-01-01 01:10:00    0.377241\n",
       "2000-01-01 01:15:00   -0.148596\n",
       "2000-01-01 01:20:00    0.214643\n",
       "2000-01-01 01:25:00   -0.583427\n",
       "2000-01-01 01:30:00    0.041354\n",
       "2000-01-01 01:35:00   -0.572061\n",
       "2000-01-01 01:40:00   -0.047272\n",
       "Freq: 5T, dtype: float64"
      ]
     },
     "execution_count": 62,
     "metadata": {},
     "output_type": "execute_result"
    }
   ],
   "source": [
    "rng = pd.date_range('2000-01-01',periods = 100,freq = 'min')\n",
    "ts = pd.Series(np.random.randn(len(rng)),index = rng)\n",
    "ts.resample('5min',label = 'right').mean()"
   ]
  },
  {
   "cell_type": "code",
   "execution_count": 63,
   "metadata": {
    "ExecuteTime": {
     "end_time": "2021-04-08T18:36:42.457963Z",
     "start_time": "2021-04-08T18:36:42.446998Z"
    }
   },
   "outputs": [
    {
     "data": {
      "text/plain": [
       "2000-01-01 00:00:00    0.422013\n",
       "2000-01-01 00:00:01    0.422013\n",
       "2000-01-01 00:00:02    0.422013\n",
       "2000-01-01 00:00:03    0.422013\n",
       "2000-01-01 00:00:04    0.422013\n",
       "                         ...   \n",
       "2000-01-01 01:38:56   -1.421992\n",
       "2000-01-01 01:38:57   -1.421992\n",
       "2000-01-01 01:38:58   -1.421992\n",
       "2000-01-01 01:38:59   -1.421992\n",
       "2000-01-01 01:39:00   -1.358872\n",
       "Freq: S, Length: 5941, dtype: float64"
      ]
     },
     "execution_count": 63,
     "metadata": {},
     "output_type": "execute_result"
    }
   ],
   "source": [
    "ts.resample('s',label = 'right').ffill()"
   ]
  },
  {
   "cell_type": "markdown",
   "metadata": {},
   "source": [
    "## Moving Window Functions"
   ]
  },
  {
   "cell_type": "markdown",
   "metadata": {},
   "source": [
    "## Exponentially Weighted Functions"
   ]
  },
  {
   "cell_type": "markdown",
   "metadata": {},
   "source": [
    "## Binary Moving Window Functions"
   ]
  },
  {
   "cell_type": "markdown",
   "metadata": {},
   "source": [
    "## User Defined Moving Window Functions"
   ]
  }
 ],
 "metadata": {
  "kernelspec": {
   "display_name": "Python 3",
   "language": "python",
   "name": "python3"
  },
  "language_info": {
   "codemirror_mode": {
    "name": "ipython",
    "version": 3
   },
   "file_extension": ".py",
   "mimetype": "text/x-python",
   "name": "python",
   "nbconvert_exporter": "python",
   "pygments_lexer": "ipython3",
   "version": "3.8.6"
  },
  "varInspector": {
   "cols": {
    "lenName": 16,
    "lenType": 16,
    "lenVar": 40
   },
   "kernels_config": {
    "python": {
     "delete_cmd_postfix": "",
     "delete_cmd_prefix": "del ",
     "library": "var_list.py",
     "varRefreshCmd": "print(var_dic_list())"
    },
    "r": {
     "delete_cmd_postfix": ") ",
     "delete_cmd_prefix": "rm(",
     "library": "var_list.r",
     "varRefreshCmd": "cat(var_dic_list()) "
    }
   },
   "types_to_exclude": [
    "module",
    "function",
    "builtin_function_or_method",
    "instance",
    "_Feature"
   ],
   "window_display": false
  }
 },
 "nbformat": 4,
 "nbformat_minor": 4
}
