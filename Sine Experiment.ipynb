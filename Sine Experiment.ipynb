{
 "cells": [
  {
   "cell_type": "code",
   "execution_count": null,
   "id": "spare-pixel",
   "metadata": {},
   "outputs": [],
   "source": [
    "import matplotlib.pyplot as plt\n",
    "import numpy as np\n",
    "import ipywidgets as widgets\n",
    "from IPython.display import display\n",
    "from ipywidgets import interact, interactive"
   ]
  },
  {
   "cell_type": "code",
   "execution_count": null,
   "id": "ongoing-charm",
   "metadata": {},
   "outputs": [],
   "source": []
  },
  {
   "cell_type": "code",
   "execution_count": null,
   "id": "polished-essence",
   "metadata": {},
   "outputs": [],
   "source": []
  },
  {
   "cell_type": "code",
   "execution_count": null,
   "id": "normal-allen",
   "metadata": {},
   "outputs": [],
   "source": [
    "from PIL import Image\n",
    "import os\n"
   ]
  },
  {
   "cell_type": "code",
   "execution_count": null,
   "id": "superior-ordinance",
   "metadata": {},
   "outputs": [],
   "source": [
    "ct_path = 'ct'"
   ]
  },
  {
   "cell_type": "code",
   "execution_count": null,
   "id": "ready-termination",
   "metadata": {},
   "outputs": [],
   "source": [
    "imgs = sorted(os.listdir(ct_path), key=lambda s : int(s[:-5]))"
   ]
  },
  {
   "cell_type": "code",
   "execution_count": null,
   "id": "heated-annual",
   "metadata": {},
   "outputs": [],
   "source": [
    "img = imgs[0]\n",
    "img = Image.open(os.path.join(ct_path, img))"
   ]
  },
  {
   "cell_type": "code",
   "execution_count": null,
   "id": "handled-paradise",
   "metadata": {},
   "outputs": [],
   "source": [
    "slices = len(imgs)\n",
    "\n",
    "for img in imgs:\n",
    "    img = Image.open(img)\n"
   ]
  },
  {
   "cell_type": "code",
   "execution_count": null,
   "id": "instructional-boating",
   "metadata": {},
   "outputs": [],
   "source": []
  },
  {
   "cell_type": "code",
   "execution_count": null,
   "id": "driven-assistant",
   "metadata": {},
   "outputs": [],
   "source": [
    "for fname in os.listdir(ct_path):\n",
    "    dot = fname.find('.', 52) + 1\n",
    "    end = fname[dot:]\n",
    "    os.rename(\n",
    "        os.path.join(ct_path, fname),\n",
    "        os.path.join(ct_path, end)\n",
    "    )"
   ]
  },
  {
   "cell_type": "code",
   "execution_count": null,
   "id": "abroad-million",
   "metadata": {},
   "outputs": [],
   "source": [
    "dcms = sorted(os.listdir(ct_path), key=lambda s : int(s[:-4]))\n",
    "z = len(dcms)"
   ]
  },
  {
   "cell_type": "code",
   "execution_count": null,
   "id": "outside-convert",
   "metadata": {},
   "outputs": [],
   "source": [
    "from pydicom import dcmread\n",
    "from skimage.transform import resize\n",
    "from skimage.exposure import adjust_gamma\n",
    "\n",
    "vol = []\n",
    "for dcm in dcms:\n",
    "    slc = dcmread(os.path.join(ct_path, dcm)).pixel_array\n",
    "    slc = np.clip(slc, a_min=0, a_max=None)\n",
    "    slc = resize(slc, (z, z))\n",
    "    slc = adjust_gamma(slc, 3)\n",
    "    vol.append(slc)"
   ]
  },
  {
   "cell_type": "code",
   "execution_count": null,
   "id": "republican-billion",
   "metadata": {},
   "outputs": [],
   "source": [
    "mybrain = np.stack(vol, -1)"
   ]
  },
  {
   "cell_type": "code",
   "execution_count": null,
   "id": "ordered-teddy",
   "metadata": {},
   "outputs": [],
   "source": [
    "mybrain = mybrain / mybrain.max() * 255"
   ]
  },
  {
   "cell_type": "code",
   "execution_count": null,
   "id": "variable-occurrence",
   "metadata": {},
   "outputs": [],
   "source": [
    "mybrain = mybrain.astype('uint8')\n",
    "mybrain = mybrain.flatten()"
   ]
  },
  {
   "cell_type": "code",
   "execution_count": null,
   "id": "romantic-iceland",
   "metadata": {},
   "outputs": [],
   "source": [
    "np.savetxt('mybrain_193x193x193_uint8.txt', mybrain)"
   ]
  },
  {
   "cell_type": "code",
   "execution_count": null,
   "id": "level-restoration",
   "metadata": {},
   "outputs": [],
   "source": [
    "mybrain.tofile('mybrain_193x193x193_uint8.raw')"
   ]
  },
  {
   "cell_type": "code",
   "execution_count": null,
   "id": "collectible-forth",
   "metadata": {},
   "outputs": [],
   "source": [
    "slc = mybrain[..., 100]"
   ]
  },
  {
   "cell_type": "code",
   "execution_count": null,
   "id": "unsigned-focus",
   "metadata": {},
   "outputs": [],
   "source": [
    "mybrain.shape"
   ]
  },
  {
   "cell_type": "code",
   "execution_count": null,
   "id": "advisory-spoke",
   "metadata": {},
   "outputs": [],
   "source": [
    "mybrain = mybrain.reshape([193, 193, 193])\n",
    "@interact(i=widgets.IntSlider(min=0, max=200, step=1, value=100))\n",
    "def show_slc(i):\n",
    "    slc = mybrain[..., i]\n",
    "    plt.imshow(slc)\n",
    "    plt.show()"
   ]
  },
  {
   "cell_type": "code",
   "execution_count": null,
   "id": "practical-explosion",
   "metadata": {},
   "outputs": [],
   "source": [
    "fid = open(\"raw/foot_256x256x256_uint8.raw\", 'rb')\n",
    "size = [256, 256, 256]\n",
    "data = np.fromfile(fid, np.dtype('uint8'))\n",
    "data = data.reshape(size)\n",
    "data = data.flatten()\n",
    "data = data.reshape(size)\n",
    "\n",
    "@interact(i=widgets.IntSlider(min=0, max=200, step=1, value=100))\n",
    "def show_slc(i):\n",
    "    slc = data[..., i]\n",
    "    plt.imshow(slc)\n",
    "    plt.show()\n",
    "data.shape"
   ]
  },
  {
   "cell_type": "code",
   "execution_count": null,
   "id": "adjustable-expert",
   "metadata": {},
   "outputs": [],
   "source": []
  },
  {
   "cell_type": "code",
   "execution_count": null,
   "id": "activated-constitutional",
   "metadata": {},
   "outputs": [],
   "source": []
  },
  {
   "cell_type": "code",
   "execution_count": null,
   "id": "emerging-personality",
   "metadata": {},
   "outputs": [],
   "source": [
    "import numpy as np\n",
    "import matplotlib.pyplot as plt"
   ]
  },
  {
   "cell_type": "code",
   "execution_count": null,
   "id": "sunrise-express",
   "metadata": {},
   "outputs": [],
   "source": [
    "def H(n):\n",
    "    if n <= 0: return 0\n",
    "    return np.sum(1 / np.arange(start=1, stop=n+1))"
   ]
  },
  {
   "cell_type": "code",
   "execution_count": null,
   "id": "large-norway",
   "metadata": {},
   "outputs": [],
   "source": [
    "def EX(n):\n",
    "    return (n - 1/n) / H(n)"
   ]
  },
  {
   "cell_type": "code",
   "execution_count": null,
   "id": "occupied-starter",
   "metadata": {},
   "outputs": [],
   "source": [
    "def EY(n):\n",
    "    return n/2 + 1/2 - 1/n"
   ]
  },
  {
   "cell_type": "code",
   "execution_count": null,
   "id": "distinguished-exhibit",
   "metadata": {},
   "outputs": [],
   "source": [
    "N = 10"
   ]
  },
  {
   "cell_type": "code",
   "execution_count": null,
   "id": "governing-timeline",
   "metadata": {},
   "outputs": [],
   "source": [
    "ex = [np.nan] + [EX(n) for n in range(1, N)]"
   ]
  },
  {
   "cell_type": "code",
   "execution_count": null,
   "id": "systematic-virgin",
   "metadata": {},
   "outputs": [],
   "source": [
    "ey = [np.nan] + [EY(n) for n in range(1, N)]"
   ]
  },
  {
   "cell_type": "code",
   "execution_count": null,
   "id": "signed-retention",
   "metadata": {},
   "outputs": [],
   "source": [
    "ax = plt.gca()\n",
    "ax.plot(ex, label=r'$E[X_N]$')\n",
    "ax.plot(ey, label=r'$E[Y_N]$')\n",
    "ax.set_xlabel(r'$N$')\n",
    "ax.legend()\n",
    "plt.savefig('save')\n",
    "plt.show()\n"
   ]
  },
  {
   "cell_type": "code",
   "execution_count": null,
   "id": "piano-suite",
   "metadata": {},
   "outputs": [],
   "source": [
    "ex[1], ey[1]"
   ]
  },
  {
   "cell_type": "code",
   "execution_count": null,
   "id": "furnished-launch",
   "metadata": {},
   "outputs": [],
   "source": []
  },
  {
   "cell_type": "code",
   "execution_count": null,
   "id": "inclusive-roberts",
   "metadata": {},
   "outputs": [],
   "source": []
  }
 ],
 "metadata": {
  "kernelspec": {
   "display_name": "Python 3",
   "language": "python",
   "name": "python3"
  },
  "language_info": {
   "codemirror_mode": {
    "name": "ipython",
    "version": 3
   },
   "file_extension": ".py",
   "mimetype": "text/x-python",
   "name": "python",
   "nbconvert_exporter": "python",
   "pygments_lexer": "ipython3",
   "version": "3.8.6"
  }
 },
 "nbformat": 4,
 "nbformat_minor": 5
}
