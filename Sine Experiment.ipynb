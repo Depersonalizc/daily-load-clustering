{
 "cells": [
  {
   "cell_type": "code",
   "execution_count": null,
   "id": "dfdf6e4c",
   "metadata": {},
   "outputs": [],
   "source": [
    "import matplotlib.pyplot as plt\n",
    "import numpy as np\n",
    "import ipywidgets as widgets\n",
    "from IPython.display import display\n",
    "from ipywidgets import interact, interactive"
   ]
  },
  {
   "cell_type": "code",
   "execution_count": null,
   "id": "75444536",
   "metadata": {},
   "outputs": [],
   "source": []
  },
  {
   "cell_type": "code",
   "execution_count": null,
   "id": "63120015",
   "metadata": {},
   "outputs": [],
   "source": []
  },
  {
   "cell_type": "code",
   "execution_count": null,
   "id": "8a41459a",
   "metadata": {},
   "outputs": [],
   "source": [
    "from PIL import Image\n",
    "import os\n"
   ]
  },
  {
   "cell_type": "code",
   "execution_count": null,
   "id": "0a93c0cf",
   "metadata": {},
   "outputs": [],
   "source": [
    "ct_path = 'ct'"
   ]
  },
  {
   "cell_type": "code",
   "execution_count": null,
   "id": "6401bf29",
   "metadata": {},
   "outputs": [],
   "source": [
    "imgs = sorted(os.listdir(ct_path), key=lambda s : int(s[:-5]))"
   ]
  },
  {
   "cell_type": "code",
   "execution_count": null,
   "id": "aa85acfe",
   "metadata": {},
   "outputs": [],
   "source": [
    "img = imgs[0]\n",
    "img = Image.open(os.path.join(ct_path, img))"
   ]
  },
  {
   "cell_type": "code",
   "execution_count": null,
   "id": "f0dd26e6",
   "metadata": {},
   "outputs": [],
   "source": [
    "slices = len(imgs)\n",
    "\n",
    "for img in imgs:\n",
    "    img = Image.open(img)\n"
   ]
  },
  {
   "cell_type": "code",
   "execution_count": null,
   "id": "981ac289",
   "metadata": {},
   "outputs": [],
   "source": []
  },
  {
   "cell_type": "code",
   "execution_count": null,
   "id": "de16b808",
   "metadata": {},
   "outputs": [],
   "source": [
    "for fname in os.listdir(ct_path):\n",
    "    dot = fname.find('.', 52) + 1\n",
    "    end = fname[dot:]\n",
    "    os.rename(\n",
    "        os.path.join(ct_path, fname),\n",
    "        os.path.join(ct_path, end)\n",
    "    )"
   ]
  },
  {
   "cell_type": "code",
   "execution_count": null,
   "id": "8c9ff44f",
   "metadata": {},
   "outputs": [],
   "source": [
    "dcms = sorted(os.listdir(ct_path), key=lambda s : int(s[:-4]))\n",
    "z = len(dcms)"
   ]
  },
  {
   "cell_type": "code",
   "execution_count": null,
   "id": "0778854d",
   "metadata": {},
   "outputs": [],
   "source": [
    "from pydicom import dcmread\n",
    "from skimage.transform import resize\n",
    "from skimage.exposure import adjust_gamma\n",
    "\n",
    "vol = []\n",
    "for dcm in dcms:\n",
    "    slc = dcmread(os.path.join(ct_path, dcm)).pixel_array\n",
    "    slc = np.clip(slc, a_min=0, a_max=None)\n",
    "    slc = resize(slc, (z, z))\n",
    "    slc = adjust_gamma(slc, 3)\n",
    "    vol.append(slc)"
   ]
  },
  {
   "cell_type": "code",
   "execution_count": null,
   "id": "91a794bf",
   "metadata": {},
   "outputs": [],
   "source": [
    "mybrain = np.stack(vol, -1)"
   ]
  },
  {
   "cell_type": "code",
   "execution_count": null,
   "id": "15ad3259",
   "metadata": {},
   "outputs": [],
   "source": [
    "mybrain = mybrain / mybrain.max() * 255"
   ]
  },
  {
   "cell_type": "code",
   "execution_count": null,
   "id": "a106ff35",
   "metadata": {},
   "outputs": [],
   "source": [
    "mybrain = mybrain.astype('uint8')\n",
    "mybrain = mybrain.flatten()"
   ]
  },
  {
   "cell_type": "code",
   "execution_count": null,
   "id": "cf4afc59",
   "metadata": {},
   "outputs": [],
   "source": [
    "np.savetxt('mybrain_193x193x193_uint8.txt', mybrain)"
   ]
  },
  {
   "cell_type": "code",
   "execution_count": null,
   "id": "8a572bd8",
   "metadata": {},
   "outputs": [],
   "source": [
    "mybrain.tofile('mybrain_193x193x193_uint8.raw')"
   ]
  },
  {
   "cell_type": "code",
   "execution_count": null,
   "id": "021b6286",
   "metadata": {},
   "outputs": [],
   "source": [
    "slc = mybrain[..., 100]"
   ]
  },
  {
   "cell_type": "code",
   "execution_count": null,
   "id": "89044314",
   "metadata": {},
   "outputs": [],
   "source": [
    "mybrain.shape"
   ]
  },
  {
   "cell_type": "code",
   "execution_count": null,
   "id": "f6433642",
   "metadata": {},
   "outputs": [],
   "source": [
    "mybrain = mybrain.reshape([193, 193, 193])\n",
    "@interact(i=widgets.IntSlider(min=0, max=200, step=1, value=100))\n",
    "def show_slc(i):\n",
    "    slc = mybrain[..., i]\n",
    "    plt.imshow(slc)\n",
    "    plt.show()"
   ]
  },
  {
   "cell_type": "code",
   "execution_count": null,
   "id": "6ce2958e",
   "metadata": {},
   "outputs": [],
   "source": [
    "fid = open(\"raw/foot_256x256x256_uint8.raw\", 'rb')\n",
    "size = [256, 256, 256]\n",
    "data = np.fromfile(fid, np.dtype('uint8'))\n",
    "data = data.reshape(size)\n",
    "data = data.flatten()\n",
    "data = data.reshape(size)\n",
    "\n",
    "@interact(i=widgets.IntSlider(min=0, max=200, step=1, value=100))\n",
    "def show_slc(i):\n",
    "    slc = data[..., i]\n",
    "    plt.imshow(slc)\n",
    "    plt.show()\n",
    "data.shape"
   ]
  },
  {
   "cell_type": "code",
   "execution_count": null,
   "id": "190cb760",
   "metadata": {},
   "outputs": [],
   "source": []
  },
  {
   "cell_type": "code",
   "execution_count": null,
   "id": "27e61a38",
   "metadata": {},
   "outputs": [],
   "source": []
  },
  {
   "cell_type": "code",
   "execution_count": null,
   "id": "342f84c4",
   "metadata": {},
   "outputs": [],
   "source": [
    "import numpy as np\n",
    "import matplotlib.pyplot as plt"
   ]
  },
  {
   "cell_type": "code",
   "execution_count": null,
   "id": "c95597da",
   "metadata": {},
   "outputs": [],
   "source": [
    "def H(n):\n",
    "    if n <= 0: return 0\n",
    "    return np.sum(1 / np.arange(start=1, stop=n+1))"
   ]
  },
  {
   "cell_type": "code",
   "execution_count": null,
   "id": "589bd206",
   "metadata": {},
   "outputs": [],
   "source": [
    "def EX(n):\n",
    "    return (n - 1/n) / H(n)"
   ]
  },
  {
   "cell_type": "code",
   "execution_count": null,
   "id": "152d895f",
   "metadata": {},
   "outputs": [],
   "source": [
    "def EY(n):\n",
    "    return n/2 + 1/2 - 1/n"
   ]
  },
  {
   "cell_type": "code",
   "execution_count": null,
   "id": "0335750e",
   "metadata": {},
   "outputs": [],
   "source": [
    "N = 10"
   ]
  },
  {
   "cell_type": "code",
   "execution_count": null,
   "id": "f24c14a5",
   "metadata": {},
   "outputs": [],
   "source": [
    "ex = [np.nan] + [EX(n) for n in range(1, N)]"
   ]
  },
  {
   "cell_type": "code",
   "execution_count": null,
   "id": "2339615f",
   "metadata": {},
   "outputs": [],
   "source": [
    "ey = [np.nan] + [EY(n) for n in range(1, N)]"
   ]
  },
  {
   "cell_type": "code",
   "execution_count": null,
   "id": "98679ff2",
   "metadata": {},
   "outputs": [],
   "source": [
    "ax = plt.gca()\n",
    "ax.plot(ex, label=r'$E[X_N]$')\n",
    "ax.plot(ey, label=r'$E[Y_N]$')\n",
    "ax.set_xlabel(r'$N$')\n",
    "ax.legend()\n",
    "plt.savefig('save')\n",
    "plt.show()\n"
   ]
  },
  {
   "cell_type": "code",
   "execution_count": null,
   "id": "1df5102d",
   "metadata": {},
   "outputs": [],
   "source": [
    "ex[1], ey[1]"
   ]
  },
  {
   "cell_type": "code",
   "execution_count": null,
   "id": "f0c4dc30",
   "metadata": {},
   "outputs": [],
   "source": []
  },
  {
   "cell_type": "code",
   "execution_count": null,
   "id": "4d27f0a0",
   "metadata": {},
   "outputs": [],
   "source": []
  }
 ],
 "metadata": {
  "kernelspec": {
   "display_name": "Python 3",
   "language": "python",
   "name": "python3"
  },
  "language_info": {
   "codemirror_mode": {
    "name": "ipython",
    "version": 3
   },
   "file_extension": ".py",
   "mimetype": "text/x-python",
   "name": "python",
   "nbconvert_exporter": "python",
   "pygments_lexer": "ipython3",
   "version": "3.6.10"
  },
  "varInspector": {
   "cols": {
    "lenName": 16,
    "lenType": 16,
    "lenVar": 40
   },
   "kernels_config": {
    "python": {
     "delete_cmd_postfix": "",
     "delete_cmd_prefix": "del ",
     "library": "var_list.py",
     "varRefreshCmd": "print(var_dic_list())"
    },
    "r": {
     "delete_cmd_postfix": ") ",
     "delete_cmd_prefix": "rm(",
     "library": "var_list.r",
     "varRefreshCmd": "cat(var_dic_list()) "
    }
   },
   "types_to_exclude": [
    "module",
    "function",
    "builtin_function_or_method",
    "instance",
    "_Feature"
   ],
   "window_display": false
  }
 },
 "nbformat": 4,
 "nbformat_minor": 5
}
